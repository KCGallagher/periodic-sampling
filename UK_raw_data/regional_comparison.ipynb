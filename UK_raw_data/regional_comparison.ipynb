{
 "cells": [
  {
   "cell_type": "markdown",
   "metadata": {},
   "source": [
    "# Periodicity Analysis\n",
    "\n",
    "To verify whether periodicity in the Covid-19 data from the Uk is a product of the reporting process, or due to some phenomenan in the underlying processes."
   ]
  },
  {
   "cell_type": "code",
   "execution_count": 2,
   "metadata": {},
   "outputs": [],
   "source": [
    "import numpy as np\n",
    "import pandas as pd\n",
    "import scipy as sp\n",
    "from scipy import fftpack\n",
    "import matplotlib.pyplot as plt\n",
    "from phe_api import retrieve_data\n",
    "\n",
    "import periodic_sampling as ps"
   ]
  },
  {
   "cell_type": "code",
   "execution_count": 3,
   "metadata": {},
   "outputs": [],
   "source": [
    "# Read in data\n",
    "\n",
    "regions_list = ['north east', 'north west', 'yorkshire and the humber', 'east midlands', 'west midlands', 'east of england', 'london', 'south east', 'south west']\n",
    "regions_dfs = []\n",
    "\n",
    "for region in regions_list:\n",
    "    df = pd.DataFrame(retrieve_data(area_name=region, area_type='region'))\n",
    "    df[\"Date\"] = pd.to_datetime(df[\"date\"], format = \"%Y-%m-%d\")\n",
    "    df.sort_values(by=\"Date\", inplace=True)\n",
    "    df = df[df[\"Date\"] < \"2022-02-01\"]\n",
    "    regions_dfs.append(df)"
   ]
  },
  {
   "cell_type": "markdown",
   "metadata": {},
   "source": [
    "## Weekly Patterns\n",
    "We can identify periodic, weekly variation in the observed reporting factor."
   ]
  },
  {
   "cell_type": "code",
   "execution_count": 21,
   "metadata": {},
   "outputs": [],
   "source": [
    "plt.rcParams['font.size'] = '16'\n",
    "fig, axs = plt.subplots(2, 2, figsize=(12, 8))\n",
    "\n",
    "for i, df in enumerate(regions_dfs):\n",
    "    df[\"Days\"] = df[\"Date\"].apply(lambda date: (date - min(df[\"Date\"])).days)\n",
    "    df = ps.analysis.rel_reporting_calc(df, ['newCasesByPublishDate', 'newCasesBySpecimenDate',\n",
    "                             'newDeaths28DaysByDeathDate', 'newDeaths28DaysByPublishDate'])\n",
    "    summary = df.groupby('Weekday').median().sort_values('Day_Index')\n",
    "    axs[0,0].plot(summary.index, summary['Dif_newCasesByPublishDate'], label=regions_list[i])\n",
    "    axs[0,1].plot(summary.index, summary['Dif_newCasesBySpecimenDate'], label=regions_list[i])\n",
    "    axs[1,0].plot(summary.index, summary['Dif_newDeaths28DaysByPublishDate'], label=regions_list[i])\n",
    "    axs[1,1].plot(summary.index, summary['Dif_newDeaths28DaysByDeathDate'], label=regions_list[i])\n",
    "\n",
    "for i in range(4):\n",
    "    axs.flatten()[i].set_xticklabels(['Mon', 'Tue', 'Wed', 'Thu', 'Fri', 'Sat', 'Sun'])\n",
    "    axs.flatten()[i].hlines(y=1, xmin=0, xmax=6, linestyles=\"dashed\", color=\"gray\")\n",
    "axs[0, 0].set_title('Cases by Publish Date'); axs[0, 1].set_title('Cases by Specimen Date');\n",
    "axs[1, 0].set_title('Deaths by Publish Date'); axs[1, 1].set_title('Deaths by Death Date');\n",
    "\n",
    "\n",
    "handles, labels = axs[0,0].get_legend_handles_labels()\n",
    "fig.legend(handles, labels, ncol=4, loc='lower center', bbox_to_anchor=(0.5, -0.13))\n",
    "\n",
    "fig.patch.set_facecolor('white'); fig.tight_layout()\n",
    "# plt.savefig(f\"../images/uk_phe_data/uk_regional_patterns.png\")"
   ]
  }
 ],
 "metadata": {
  "kernelspec": {
   "display_name": "Python 3.8.10 64-bit",
   "language": "python",
   "name": "python3"
  },
  "language_info": {
   "codemirror_mode": {
    "name": "ipython",
    "version": 3
   },
   "file_extension": ".py",
   "mimetype": "text/x-python",
   "name": "python",
   "nbconvert_exporter": "python",
   "pygments_lexer": "ipython3",
   "version": "3.8.10"
  },
  "orig_nbformat": 4,
  "vscode": {
   "interpreter": {
    "hash": "916dbcbb3f70747c44a77c7bcd40155683ae19c65e1c03b4aa3499c5328201f1"
   }
  }
 },
 "nbformat": 4,
 "nbformat_minor": 2
}
