{
 "cells": [
  {
   "cell_type": "markdown",
   "metadata": {},
   "source": [
    "# Fixed Bias Sampler\n",
    "\n",
    "Gibbs sampler for the reporter model where each weekday is assigned a fixed reporting bias $\\alpha_{w[t]}$, which does not vary over time and is independant of other days. This scales the true case/death number on each day to give the recorded count."
   ]
  },
  {
   "cell_type": "markdown",
   "metadata": {},
   "source": [
    "## Fixed Bias Formulation\n",
    "\n",
    "The simplest form of this formulation is when $C_{t} = \\alpha_{w[t]} I_{t}$ - i.e. the ground truth cases are scaled by some weekday-dependant scalar constant to give the observed cases. To generate sufficient noise in the periodicity of the observed (recorded) data however, we use $C_{t} \\sim Po(\\alpha_{w[t]} I_{t})$, while the true cases are still given by the renewal equation $I_{t} \\sim Po(R_{t} \\Lambda_{t})$.\n",
    "\n",
    "\n",
    "The parameters are then updated in two steps. First $I_{t}$ is updated via Metropolis-Hastings according to the following conditional probability:\n",
    "\n",
    "$$\n",
    "P(I_{t} | C_{t}, \\alpha_{i}, R_{t}) = \\prod Po(I_{t} | R_{t} \\Lambda_{t}) \\times Po(C_{t} | \\alpha_{i}I_{t})\n",
    "$$\n",
    "\n",
    "Secondly, $\\alpha_{i}$ are updated using Gibbs sampling from the following conditional probability:\n",
    "\n",
    "$$\n",
    "P(\\alpha_{i} | I_{t} , C_{t}) = \\prod_{1, 8, 15, ...} Po(C_{t} | \\alpha_{i} I_{t} ) \\times Gamma(\\alpha_{i} | a, b)\n",
    "$$\n",
    "\n",
    "summing over all days of that given weekday (monday indicies illustrated). This may be simplified to a single Gamma distribution using a known conditional prior relation (noting that the rates of the two processes differ by a scalar $I_{t}$ and so this is not quite equal to the standard relation). The prior of $\\alpha_{i}$ is given by a Gamma distribution $Gamma(a, b)$.\n"
   ]
  }
 ],
 "metadata": {
  "kernelspec": {
   "display_name": "Python 3.8.10 64-bit",
   "language": "python",
   "name": "python3"
  },
  "language_info": {
   "name": "python",
   "version": "3.8.10"
  },
  "orig_nbformat": 4,
  "vscode": {
   "interpreter": {
    "hash": "916dbcbb3f70747c44a77c7bcd40155683ae19c65e1c03b4aa3499c5328201f1"
   }
  }
 },
 "nbformat": 4,
 "nbformat_minor": 2
}
