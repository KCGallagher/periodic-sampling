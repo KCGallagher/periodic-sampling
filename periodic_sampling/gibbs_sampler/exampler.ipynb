{
 "cells": [
  {
   "cell_type": "markdown",
   "metadata": {},
   "source": [
    "# Example Gibbs Sampler\n",
    "\n",
    "Based on problems from Chapter 14 of Ben Lambert's \"[A Student's Guide to Bayesian Statistics](https://study.sagepub.com/lambert)\"."
   ]
  },
  {
   "cell_type": "code",
   "execution_count": 1,
   "metadata": {},
   "outputs": [],
   "source": [
    "import numpy as np\n",
    "import pandas as pd\n",
    "from numpy.random import beta, binomial, gamma\n",
    "\n",
    "from gibbs_param import Parameter\n",
    "from gibbs_methods import gibbs_sampler"
   ]
  },
  {
   "cell_type": "markdown",
   "metadata": {},
   "source": [
    "## 14.1 - Disease Testing\n",
    "\n",
    "The test for a particular tropical disease is known to be imperfect, not always identifying the disease if the patient has it, and sometimes yielding false \n",
    "positives (patients that do not have the disease but test positive). \n",
    "\n",
    "However, by using this test in a clinical trial it is hoped that we can obtain better estimates for the test sensitivity ($S$, the proportion of disease-positive individuals who test positive) and specificity ($C$, the proportion of disease-negative individuals who test negative) [[Joseph1995]](https://pubmed.ncbi.nlm.nih.gov/7840100/).\n"
   ]
  },
  {
   "cell_type": "markdown",
   "metadata": {},
   "source": [
    "To do this we can construct a table of the observed and latent data for the test outcomes (see below). In the table $a$ and $b$ are the number of observed positive and negative results, respectively. $Y_{1}$ and $Y_{2}$ are latent variables that represent the gold standard – the true number of positive\n",
    "individuals out of $a$ and $b$, respectively.\n",
    "\n",
    "\n",
    "|   | True +     | True - | Sum |\n",
    "| ----------- | ----------- | ----------- | ----------- |\n",
    "| **Test +**    | $Y_{1}$      | $ a - Y_{1}$  | $a$ |\n",
    "| **Test -**  | $Y_{2}$       | $b - Y_{2}$  |  $b$  |\n",
    "| **Sum**  | $Y_{1} + Y_{2}$       | $N - (Y_{1} +Y_{2})$  |  $N$  |"
   ]
  },
  {
   "cell_type": "markdown",
   "metadata": {},
   "source": [
    "### Likelihood\n",
    "\n",
    "Assuming the prevalence of the disease is $\\pi$, we may write the likelihood as:\n",
    "\n",
    "$$\n",
    "L(a,b| Y_{1}, Y_{2}, \\pi, S, C) = [\\pi S]^{Y_{1}} \\times [(1 - \\pi)(1 - C)]^{a - Y_{1}} \\times [\\pi(1 - S)]^{Y_{2}} \\times [(1 - \\pi)C]^{b - Y_{2}}\n",
    "$$\n",
    "\n",
    "(The first term $[\\pi S]^{Y_{1}}$ is the proportion of individuals with the disease ($\\pi$) times the test specificity ($S$), giving the probability that we correctly identify one person as having the disease. This is raised to the power $Y_{1}$ since there are this many individuals with the disease in our sample.)\n",
    "\n"
   ]
  },
  {
   "cell_type": "markdown",
   "metadata": {},
   "source": [
    "### Priors\n",
    "\n",
    "Let us assume priors of the form:\n",
    "\n",
    "* $\\pi ∼ beta(\\alpha_{\\pi} , \\beta_{\\pi})$\n",
    "* $S ∼ beta(\\alpha_{S} , \\beta_{S})$\n",
    "* $C ∼ beta(\\alpha_{C} , \\beta_{C})$\n",
    "\n",
    "Using these, the Gibbs sampler is of the form:\n",
    "\n",
    "* $Y_{1}|a, \\pi, S, C \\sim binomial\\left(a, \\frac{\\pi S}{\\pi S + (1-\\pi)(1-C)} \\right)$\n",
    "* $Y_{2}|b, \\pi, S, C \\sim binomial\\left(b, \\frac{\\pi (1 -S)}{\\pi (1-S) + (1-\\pi)C} \\right)$\n",
    "* $\\pi |a,b,Y_{1},Y_{2} \\sim beta(Y_{1} + Y_{2} + \\alpha_{\\pi}, a+b-Y_{1}-Y_{2}+\\beta_{\\pi})$\n",
    "* $ S|Y_{1}, Y_{2} \\sim beta(Y_{1} + \\alpha_{S}, Y_{2} +\\beta_{S})$\n",
    "* $ C|a,b,Y_{1}, Y_{2} \\sim beta(b-Y_{2} + \\alpha_{C},a-Y_{1} +\\beta_{C})$"
   ]
  },
  {
   "cell_type": "code",
   "execution_count": 2,
   "metadata": {},
   "outputs": [
    {
     "data": {
      "image/png": "[encoded data removed]",
      "text/plain": [
       "<Figure size 432x288 with 1 Axes>"
      ]
     },
     "metadata": {
      "needs_background": "light"
     },
     "output_type": "display_data"
    }
   ],
   "source": [
    "prior_params = {'alpha_pi': 1, 'beta_pi': 1,  # Uniform prior for beta dist\n",
    "                'alpha_S': 10, 'beta_S': 1,  # Informed prior from previous study\n",
    "                'alpha_C': 10, 'beta_C': 1}\n",
    "\n",
    "# Sample initial values from the priors\n",
    "priors = {'pi': beta(prior_params['alpha_pi'], prior_params['beta_pi']),\n",
    "          'S': beta(prior_params['alpha_S'], prior_params['beta_S']),\n",
    "          'C': beta(prior_params['alpha_C'], prior_params['beta_C'])}\n",
    "sample = {'a': 20, 'b':  80}  # From sample dataset\n",
    "\n",
    "params = {\n",
    "    'Y1': Parameter(sample['a'], binomial, lambda a, pi, S, C, **kwargs: {'n':a, 'p':(pi*S)/((pi*S)+(1-pi)*(1-C))}),\n",
    "    'Y2': Parameter(sample['b'], binomial, lambda b, pi, S, C, **kwargs: {'n':b, 'p':(pi*(1-S))/((pi*(1-S))+(1-pi)*C)}),\n",
    "    'pi': Parameter(priors['pi'], beta, lambda a, b, Y1, Y2, **kwargs: {'a':Y1+Y2+prior_params['alpha_pi'], 'b': a+b-Y1-Y2+prior_params['beta_pi']}),\n",
    "    'S': Parameter(priors['S'], beta, lambda Y1, Y2, **kwargs: {'a':Y1+prior_params['alpha_S'], 'b': Y2+prior_params['beta_S']}),\n",
    "    'C': Parameter(priors['C'], beta, lambda a, b, Y1, Y2, **kwargs: {'a':b-Y2+prior_params['alpha_C'], 'b': a-Y1+prior_params['beta_C']})\n",
    "}\n",
    "\n",
    "gibbs = gibbs_sampler(100000, params = {**params, **prior_params, **sample})\n",
    "gibbs.hist('pi', bins=50);"
   ]
  },
  {
   "cell_type": "markdown",
   "metadata": {},
   "source": [
    "## 14.2 - Mining Disasters\n",
    "\n",
    "We consider time series of the annual number of coal mining disasters in the UK from 1851 to 1961 [5], using Gibbs sampling to estimate the point in time when legislative and societal changes caused a reduction in coal mining disasters."
   ]
  },
  {
   "cell_type": "markdown",
   "metadata": {},
   "source": [
    "### Model\n",
    "\n",
    "We will model the number of disasters $D_{t}$ in a given year $t$ by:\n",
    "\n",
    "$$\n",
    "D_{t} \\sim Poisson(\\lambda(t))\n",
    "$$\n",
    "\n",
    "where $\\lambda(t) = \\lambda_{1}$ for $t \\leq n$, and $\\lambda(t) = \\lambda_{2}$ for $t > n$."
   ]
  },
  {
   "cell_type": "code",
   "execution_count": 3,
   "metadata": {},
   "outputs": [
    {
     "data": {
      "image/png": "[encoded data removed]",
      "text/plain": [
       "<Figure size 432x288 with 1 Axes>"
      ]
     },
     "metadata": {
      "needs_background": "light"
     },
     "output_type": "display_data"
    }
   ],
   "source": [
    "# Data trends\n",
    "\n",
    "mine_df = pd.read_csv(\"../../data/other/gibbs_coal.csv\")\n",
    "mine_df.plot('Year', 'Count');\n",
    "# Clear change in disaster rate between 1880 - 1900."
   ]
  },
  {
   "cell_type": "markdown",
   "metadata": {},
   "source": [
    "### Priors\n",
    "\n",
    "Let us assume the same $\\lambda_{i} \\sim \\Gamma(a,b)$ priors for $i = {1,2}$, and a discrete uniform prior for $n$ between 1851 and 1961.\n",
    "\n",
    "The full (un-normalised) posterior density $P(\\lambda_{i}|x_{t}) = P(x_{t}|\\lambda_{i})P(\\lambda_{i})$ is therefore given in full by:\n",
    "\n",
    "$$\n",
    "P(\\lambda_{1},\\lambda_{2},n|x_{1:N},a,b) \\propto p(x_{1:n}|\\lambda_{1})p(x_{n+1:N}|\\lambda_{2})p(\\lambda_{1}|a,b)p(\\lambda_{2}|a,b)p(n)\n",
    "$$\n",
    "\n",
    "This probability for unknowns (rates $\\lambda_{i}$ and changepoint $n$) is conditional upon the known prior parameters ($a, b$, as well as the data $x_{1:N}$). We can calculate this explicitly:\n",
    "\n",
    "$$\n",
    "p(x_{1:n}|\\lambda_{1})p(x_{n+1:N}|\\lambda_{2})p(\\lambda_{1}|a,b)p(\\lambda_{2}|a,b)p(n)\n",
    " = Poisson(x_{1:n}|\\lambda_{1}) Poisson(x_{n+1:N}|\\lambda_{2}) \\times \\Gamma(\\lambda_{1}|a,b) \\Gamma(\\lambda_{2}|a,b) p(n)\n",
    "$$"
   ]
  },
  {
   "cell_type": "markdown",
   "metadata": {},
   "source": [
    "### Conditional Distribution\n",
    "\n",
    "#### Rate Constants\n",
    "We may determine the conditional distribution for $\\lambda_{1}$ ($p(\\lambda_{1}|x_{1:n},a,b)$) by finding all those terms in the density that include $\\lambda_{1}$, and removing the rest as constants of proportionality. Therefore:\n",
    "\n",
    "$$\n",
    "p(\\lambda_{1}|x_{1:n},a,b) \\propto Poisson(x_{1:n}|\\lambda_{1}) \\times \\Gamma(\\lambda_{1}|a,b)\n",
    "$$\n",
    "\n",
    "However, as the gamma distribution ia the conjugate prior to the Poisson likelihood, we can obtain:\n",
    "\n",
    "$$\n",
    "p(\\lambda_{1}|x_{1:n},a,b) \\sim \\Gamma \\left(a + \\sum_{t=1}^{n}x_{t}, b+n \\right)\n",
    "$$\n",
    "\n",
    "Similarly for $\\lambda_{2}$:\n",
    "\n",
    "$$\n",
    "p(\\lambda_{2}|x_{n+1:N},a,b) \\sim \\Gamma \\left(a + \\sum_{t=n+1}^{N}x_{t}, b+N-n \\right)\n",
    "$$\n",
    "\n",
    "#### Changepoint\n",
    "\n",
    "We may write the conditional distribution for $n$ as:\n",
    "\n",
    "$$\n",
    "p(n|x_{1:N},\\lambda_{1},\\lambda_{2}) \\propto Poisson(x_{1:n}|\\lambda_{1}) Poisson(x_{n+1:N}|\\lambda_{2}) p(n)\n",
    "$$\n",
    "\n",
    "Assuming a uniform prior for $n$ (equal to $1/N$), and writing each term explicitly:\n",
    "\n",
    "$$\n",
    "p(n|x_{1:N},\\lambda_{1},\\lambda_{2}) \\propto \\left(\\prod_{t=1}^{n}\\frac{\\lambda_{1}^{x_{t}}e^{-\\lambda_{1}}}{x_{t}!} \\right) \\times \\left(\\prod_{t=n+1}^{N}\\frac{\\lambda_{2}^{x_{t}}e^{-\\lambda_{2}}}{x_{t}!} \\right) \n",
    "$$\n",
    "\n",
    "from which we can drop the constant terms to obtain:\n",
    "\n",
    "$$\n",
    "p(n|x_{1:N},\\lambda_{1},\\lambda_{2}) \\propto \\lambda_{1}^{\\sum_{t=1}^{n}x_{t}}e^{-n\\lambda_{1}}  \\times \\lambda_{2}^{\\sum_{t=n+1}^{N}x_{t}}e^{-(N-n)\\lambda_{2}}\n",
    "$$\n",
    "\n"
   ]
  },
  {
   "cell_type": "code",
   "execution_count": 12,
   "metadata": {},
   "outputs": [],
   "source": [
    "def conditional_posterior_n(n, x, lambda_1, lambda_2, **kwargs):\n",
    "    \"\"\"Posterior distribution for changepoint n, conditional on\n",
    "    the data n and the rates (before/after) lambda_1 and lambda_2.\"\"\"\n",
    "    if n == len(x):\n",
    "        return 0  # Change cannot occur at final point\n",
    "    term_1 = float(lambda_1)**(sum(x[:int(float(n)+1)])) * np.exp(-float(n) * float(lambda_1))\n",
    "    term_2 = float(lambda_2)**(sum(x[int(float(n)+1):])) * np.exp(-(len(x) - float(n)) * float(lambda_2))\n",
    "    return term_1 * term_2"
   ]
  },
  {
   "cell_type": "code",
   "execution_count": 13,
   "metadata": {},
   "outputs": [
    {
     "name": "stderr",
     "output_type": "stream",
     "text": [
      "/tmp/ipykernel_249976/1648899919.py:6: RuntimeWarning: overflow encountered in power\n",
      "  term_1 = float(lambda_1)**(sum(x[:int(float(n)+1)])) * np.exp(-float(n) * float(lambda_1))\n",
      "/tmp/ipykernel_249976/1648899919.py:6: RuntimeWarning: invalid value encountered in double_scalars\n",
      "  term_1 = float(lambda_1)**(sum(x[:int(float(n)+1)])) * np.exp(-float(n) * float(lambda_1))\n"
     ]
    },
    {
     "ename": "ValueError",
     "evalue": "cannot convert float NaN to integer",
     "output_type": "error",
     "traceback": [
      "\u001b[0;31m---------------------------------------------------------------------------\u001b[0m",
      "\u001b[0;31mValueError\u001b[0m                                Traceback (most recent call last)",
      "\u001b[1;32m/auto/users/kither/Documents/periodic-sampling/periodic_sampling/gibbs_sampler/exampler.ipynb Cell 14'\u001b[0m in \u001b[0;36m<cell line: 10>\u001b[0;34m()\u001b[0m\n\u001b[1;32m      <a href='vscode-notebook-cell:/auto/users/kither/Documents/periodic-sampling/periodic_sampling/gibbs_sampler/exampler.ipynb#ch0000018?line=1'>2</a>\u001b[0m sample_data \u001b[39m=\u001b[39m {\u001b[39m'\u001b[39m\u001b[39mx\u001b[39m\u001b[39m'\u001b[39m: mine_df[\u001b[39m'\u001b[39m\u001b[39mCount\u001b[39m\u001b[39m'\u001b[39m]\u001b[39m.\u001b[39mvalues}  \u001b[39m# From sample dataset\u001b[39;00m\n\u001b[1;32m      <a href='vscode-notebook-cell:/auto/users/kither/Documents/periodic-sampling/periodic_sampling/gibbs_sampler/exampler.ipynb#ch0000018?line=3'>4</a>\u001b[0m params \u001b[39m=\u001b[39m {\n\u001b[1;32m      <a href='vscode-notebook-cell:/auto/users/kither/Documents/periodic-sampling/periodic_sampling/gibbs_sampler/exampler.ipynb#ch0000018?line=4'>5</a>\u001b[0m     \u001b[39m'\u001b[39m\u001b[39mlambda_1\u001b[39m\u001b[39m'\u001b[39m: Parameter(\u001b[39m1\u001b[39m, gamma, \u001b[39mlambda\u001b[39;00m a, b, x, n, \u001b[39m*\u001b[39m\u001b[39m*\u001b[39mkwargs: {\u001b[39m'\u001b[39m\u001b[39mshape\u001b[39m\u001b[39m'\u001b[39m:a \u001b[39m+\u001b[39m \u001b[39msum\u001b[39m(x[:\u001b[39mint\u001b[39m(\u001b[39mfloat\u001b[39m(n)\u001b[39m+\u001b[39m\u001b[39m1\u001b[39m)]), \u001b[39m'\u001b[39m\u001b[39mscale\u001b[39m\u001b[39m'\u001b[39m:(b\u001b[39m+\u001b[39m\u001b[39mfloat\u001b[39m(n))}),\n\u001b[1;32m      <a href='vscode-notebook-cell:/auto/users/kither/Documents/periodic-sampling/periodic_sampling/gibbs_sampler/exampler.ipynb#ch0000018?line=5'>6</a>\u001b[0m     \u001b[39m'\u001b[39m\u001b[39mlambda_2\u001b[39m\u001b[39m'\u001b[39m: Parameter(\u001b[39m1\u001b[39m, gamma, \u001b[39mlambda\u001b[39;00m a, b, x, n, \u001b[39m*\u001b[39m\u001b[39m*\u001b[39mkwargs: {\u001b[39m'\u001b[39m\u001b[39mshape\u001b[39m\u001b[39m'\u001b[39m:a \u001b[39m+\u001b[39m \u001b[39msum\u001b[39m(x[\u001b[39mint\u001b[39m(\u001b[39mfloat\u001b[39m(n)\u001b[39m+\u001b[39m\u001b[39m1\u001b[39m):]), \u001b[39m'\u001b[39m\u001b[39mscale\u001b[39m\u001b[39m'\u001b[39m:(b\u001b[39m+\u001b[39m\u001b[39mlen\u001b[39m(x)\u001b[39m-\u001b[39m\u001b[39mfloat\u001b[39m(n))}),\n\u001b[1;32m      <a href='vscode-notebook-cell:/auto/users/kither/Documents/periodic-sampling/periodic_sampling/gibbs_sampler/exampler.ipynb#ch0000018?line=6'>7</a>\u001b[0m     \u001b[39m'\u001b[39m\u001b[39mn\u001b[39m\u001b[39m'\u001b[39m: Parameter(\u001b[39mint\u001b[39m(\u001b[39mlen\u001b[39m(sample_data[\u001b[39m'\u001b[39m\u001b[39mx\u001b[39m\u001b[39m'\u001b[39m])\u001b[39m/\u001b[39m\u001b[39m2\u001b[39m), conditional_posterior_n),\n\u001b[1;32m      <a href='vscode-notebook-cell:/auto/users/kither/Documents/periodic-sampling/periodic_sampling/gibbs_sampler/exampler.ipynb#ch0000018?line=7'>8</a>\u001b[0m }\n\u001b[0;32m---> <a href='vscode-notebook-cell:/auto/users/kither/Documents/periodic-sampling/periodic_sampling/gibbs_sampler/exampler.ipynb#ch0000018?line=9'>10</a>\u001b[0m gibbs \u001b[39m=\u001b[39m gibbs_sampler(\u001b[39m10\u001b[39;49m, params \u001b[39m=\u001b[39;49m {\u001b[39m*\u001b[39;49m\u001b[39m*\u001b[39;49mparams, \u001b[39m*\u001b[39;49m\u001b[39m*\u001b[39;49mprior_params, \u001b[39m*\u001b[39;49m\u001b[39m*\u001b[39;49msample_data})\n",
      "File \u001b[0;32m/auto/users/kither/Documents/periodic-sampling/periodic_sampling/gibbs_sampler/gibbs_methods.py:27\u001b[0m, in \u001b[0;36mgibbs_sampler\u001b[0;34m(N, params, sample_period, sample_burnin)\u001b[0m\n\u001b[1;32m     25\u001b[0m \u001b[39mfor\u001b[39;00m key \u001b[39min\u001b[39;00m \u001b[39mlist\u001b[39m(params\u001b[39m.\u001b[39mkeys()):\n\u001b[1;32m     26\u001b[0m     \u001b[39mif\u001b[39;00m \u001b[39misinstance\u001b[39m(params[key], Parameter):\n\u001b[0;32m---> 27\u001b[0m         value \u001b[39m=\u001b[39m params[key]\u001b[39m.\u001b[39;49msample(params)\n\u001b[1;32m     28\u001b[0m         params[key]\u001b[39m.\u001b[39mvalue \u001b[39m=\u001b[39m value\n\u001b[1;32m     29\u001b[0m         row[key] \u001b[39m=\u001b[39m value\n",
      "File \u001b[0;32m/auto/users/kither/Documents/periodic-sampling/periodic_sampling/gibbs_sampler/gibbs_param.py:74\u001b[0m, in \u001b[0;36mParameter.sample\u001b[0;34m(self, sample_params)\u001b[0m\n\u001b[1;32m     72\u001b[0m             \u001b[39melse\u001b[39;00m:\n\u001b[1;32m     73\u001b[0m                 param_values[k] \u001b[39m=\u001b[39m v\n\u001b[0;32m---> 74\u001b[0m     post_params \u001b[39m=\u001b[39m \u001b[39mself\u001b[39;49m\u001b[39m.\u001b[39;49mposterior_params(\u001b[39m*\u001b[39;49m\u001b[39m*\u001b[39;49mparam_values)\n\u001b[1;32m     75\u001b[0m \u001b[39mself\u001b[39m\u001b[39m.\u001b[39mvalue \u001b[39m=\u001b[39m \u001b[39mself\u001b[39m\u001b[39m.\u001b[39mconditional_posterior(\u001b[39m*\u001b[39m\u001b[39m*\u001b[39mpost_params)\n\u001b[1;32m     76\u001b[0m \u001b[39mreturn\u001b[39;00m \u001b[39mself\u001b[39m\u001b[39m.\u001b[39mvalue\n",
      "\u001b[1;32m/auto/users/kither/Documents/periodic-sampling/periodic_sampling/gibbs_sampler/exampler.ipynb Cell 14'\u001b[0m in \u001b[0;36m<lambda>\u001b[0;34m(a, b, x, n, **kwargs)\u001b[0m\n\u001b[1;32m      <a href='vscode-notebook-cell:/auto/users/kither/Documents/periodic-sampling/periodic_sampling/gibbs_sampler/exampler.ipynb#ch0000018?line=0'>1</a>\u001b[0m prior_params \u001b[39m=\u001b[39m {\u001b[39m'\u001b[39m\u001b[39ma\u001b[39m\u001b[39m'\u001b[39m: \u001b[39m1\u001b[39m, \u001b[39m'\u001b[39m\u001b[39mb\u001b[39m\u001b[39m'\u001b[39m: \u001b[39m1\u001b[39m}  \u001b[39m# Uniform prior for beta dist\u001b[39;00m\n\u001b[1;32m      <a href='vscode-notebook-cell:/auto/users/kither/Documents/periodic-sampling/periodic_sampling/gibbs_sampler/exampler.ipynb#ch0000018?line=1'>2</a>\u001b[0m sample_data \u001b[39m=\u001b[39m {\u001b[39m'\u001b[39m\u001b[39mx\u001b[39m\u001b[39m'\u001b[39m: mine_df[\u001b[39m'\u001b[39m\u001b[39mCount\u001b[39m\u001b[39m'\u001b[39m]\u001b[39m.\u001b[39mvalues}  \u001b[39m# From sample dataset\u001b[39;00m\n\u001b[1;32m      <a href='vscode-notebook-cell:/auto/users/kither/Documents/periodic-sampling/periodic_sampling/gibbs_sampler/exampler.ipynb#ch0000018?line=3'>4</a>\u001b[0m params \u001b[39m=\u001b[39m {\n\u001b[0;32m----> <a href='vscode-notebook-cell:/auto/users/kither/Documents/periodic-sampling/periodic_sampling/gibbs_sampler/exampler.ipynb#ch0000018?line=4'>5</a>\u001b[0m     \u001b[39m'\u001b[39m\u001b[39mlambda_1\u001b[39m\u001b[39m'\u001b[39m: Parameter(\u001b[39m1\u001b[39m, gamma, \u001b[39mlambda\u001b[39;00m a, b, x, n, \u001b[39m*\u001b[39m\u001b[39m*\u001b[39mkwargs: {\u001b[39m'\u001b[39m\u001b[39mshape\u001b[39m\u001b[39m'\u001b[39m:a \u001b[39m+\u001b[39m \u001b[39msum\u001b[39m(x[:\u001b[39mint\u001b[39;49m(\u001b[39mfloat\u001b[39;49m(n)\u001b[39m+\u001b[39;49m\u001b[39m1\u001b[39;49m)]), \u001b[39m'\u001b[39m\u001b[39mscale\u001b[39m\u001b[39m'\u001b[39m:(b\u001b[39m+\u001b[39m\u001b[39mfloat\u001b[39m(n))}),\n\u001b[1;32m      <a href='vscode-notebook-cell:/auto/users/kither/Documents/periodic-sampling/periodic_sampling/gibbs_sampler/exampler.ipynb#ch0000018?line=5'>6</a>\u001b[0m     \u001b[39m'\u001b[39m\u001b[39mlambda_2\u001b[39m\u001b[39m'\u001b[39m: Parameter(\u001b[39m1\u001b[39m, gamma, \u001b[39mlambda\u001b[39;00m a, b, x, n, \u001b[39m*\u001b[39m\u001b[39m*\u001b[39mkwargs: {\u001b[39m'\u001b[39m\u001b[39mshape\u001b[39m\u001b[39m'\u001b[39m:a \u001b[39m+\u001b[39m \u001b[39msum\u001b[39m(x[\u001b[39mint\u001b[39m(\u001b[39mfloat\u001b[39m(n)\u001b[39m+\u001b[39m\u001b[39m1\u001b[39m):]), \u001b[39m'\u001b[39m\u001b[39mscale\u001b[39m\u001b[39m'\u001b[39m:(b\u001b[39m+\u001b[39m\u001b[39mlen\u001b[39m(x)\u001b[39m-\u001b[39m\u001b[39mfloat\u001b[39m(n))}),\n\u001b[1;32m      <a href='vscode-notebook-cell:/auto/users/kither/Documents/periodic-sampling/periodic_sampling/gibbs_sampler/exampler.ipynb#ch0000018?line=6'>7</a>\u001b[0m     \u001b[39m'\u001b[39m\u001b[39mn\u001b[39m\u001b[39m'\u001b[39m: Parameter(\u001b[39mint\u001b[39m(\u001b[39mlen\u001b[39m(sample_data[\u001b[39m'\u001b[39m\u001b[39mx\u001b[39m\u001b[39m'\u001b[39m])\u001b[39m/\u001b[39m\u001b[39m2\u001b[39m), conditional_posterior_n),\n\u001b[1;32m      <a href='vscode-notebook-cell:/auto/users/kither/Documents/periodic-sampling/periodic_sampling/gibbs_sampler/exampler.ipynb#ch0000018?line=7'>8</a>\u001b[0m }\n\u001b[1;32m     <a href='vscode-notebook-cell:/auto/users/kither/Documents/periodic-sampling/periodic_sampling/gibbs_sampler/exampler.ipynb#ch0000018?line=9'>10</a>\u001b[0m gibbs \u001b[39m=\u001b[39m gibbs_sampler(\u001b[39m10\u001b[39m, params \u001b[39m=\u001b[39m {\u001b[39m*\u001b[39m\u001b[39m*\u001b[39mparams, \u001b[39m*\u001b[39m\u001b[39m*\u001b[39mprior_params, \u001b[39m*\u001b[39m\u001b[39m*\u001b[39msample_data})\n",
      "\u001b[0;31mValueError\u001b[0m: cannot convert float NaN to integer"
     ]
    }
   ],
   "source": [
    "prior_params = {'a': 1, 'b': 1}  # Uniform prior for beta dist\n",
    "sample_data = {'x': mine_df['Count'].values}  # From sample dataset\n",
    "\n",
    "params = {\n",
    "    'lambda_1': Parameter(1, gamma, lambda a, b, x, n, **kwargs: {'shape':a + sum(x[:int(float(n)+1)]), 'scale':(b+float(n))}),\n",
    "    'lambda_2': Parameter(1, gamma, lambda a, b, x, n, **kwargs: {'shape':a + sum(x[int(float(n)+1):]), 'scale':(b+len(x)-float(n))}),\n",
    "    'n': Parameter(int(len(sample_data['x'])/2), conditional_posterior_n),\n",
    "}\n",
    "\n",
    "gibbs = gibbs_sampler(10, params = {**params, **prior_params, **sample_data})"
   ]
  },
  {
   "cell_type": "code",
   "execution_count": 17,
   "metadata": {},
   "outputs": [
    {
     "name": "stdout",
     "output_type": "stream",
     "text": [
      "7446.601496358493\n"
     ]
    },
    {
     "ename": "TypeError",
     "evalue": "unsupported operand type(s) for +: 'Parameter' and 'int'",
     "output_type": "error",
     "traceback": [
      "\u001b[0;31m---------------------------------------------------------------------------\u001b[0m",
      "\u001b[0;31mTypeError\u001b[0m                                 Traceback (most recent call last)",
      "\u001b[1;32m/auto/users/kither/Documents/periodic-sampling/periodic_sampling/gibbs_sampler/exampler.ipynb Cell 15'\u001b[0m in \u001b[0;36m<cell line: 2>\u001b[0;34m()\u001b[0m\n\u001b[1;32m      <a href='vscode-notebook-cell:/auto/users/kither/Documents/periodic-sampling/periodic_sampling/gibbs_sampler/exampler.ipynb#ch0000019?line=0'>1</a>\u001b[0m \u001b[39mprint\u001b[39m(\u001b[39mfloat\u001b[39m(params[\u001b[39m'\u001b[39m\u001b[39mlambda_1\u001b[39m\u001b[39m'\u001b[39m]) \u001b[39m+\u001b[39m \u001b[39m1\u001b[39m)\n\u001b[0;32m----> <a href='vscode-notebook-cell:/auto/users/kither/Documents/periodic-sampling/periodic_sampling/gibbs_sampler/exampler.ipynb#ch0000019?line=1'>2</a>\u001b[0m \u001b[39mprint\u001b[39m(params[\u001b[39m'\u001b[39;49m\u001b[39mlambda_1\u001b[39;49m\u001b[39m'\u001b[39;49m] \u001b[39m+\u001b[39;49m \u001b[39m1\u001b[39;49m)\n\u001b[1;32m      <a href='vscode-notebook-cell:/auto/users/kither/Documents/periodic-sampling/periodic_sampling/gibbs_sampler/exampler.ipynb#ch0000019?line=2'>3</a>\u001b[0m \u001b[39mprint\u001b[39m(params[\u001b[39m'\u001b[39m\u001b[39mlambda_1\u001b[39m\u001b[39m'\u001b[39m] \u001b[39m+\u001b[39m params[\u001b[39m'\u001b[39m\u001b[39mlambda_2\u001b[39m\u001b[39m'\u001b[39m])\n",
      "\u001b[0;31mTypeError\u001b[0m: unsupported operand type(s) for +: 'Parameter' and 'int'"
     ]
    }
   ],
   "source": [
    "print(float(params['lambda_1']) + 1)\n",
    "print(params['lambda_1'] + 1)\n",
    "print(params['lambda_1'] + params['lambda_2'])"
   ]
  }
 ],
 "metadata": {
  "kernelspec": {
   "display_name": "Python 3.8.10 64-bit",
   "language": "python",
   "name": "python3"
  },
  "language_info": {
   "codemirror_mode": {
    "name": "ipython",
    "version": 3
   },
   "file_extension": ".py",
   "mimetype": "text/x-python",
   "name": "python",
   "nbconvert_exporter": "python",
   "pygments_lexer": "ipython3",
   "version": "3.8.10"
  },
  "orig_nbformat": 4,
  "vscode": {
   "interpreter": {
    "hash": "916dbcbb3f70747c44a77c7bcd40155683ae19c65e1c03b4aa3499c5328201f1"
   }
  }
 },
 "nbformat": 4,
 "nbformat_minor": 2
}
