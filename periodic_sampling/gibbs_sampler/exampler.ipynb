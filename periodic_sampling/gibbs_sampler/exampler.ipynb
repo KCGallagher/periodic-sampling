{
 "cells": [
  {
   "cell_type": "markdown",
   "metadata": {},
   "source": [
    "# Example Gibbs Sampler\n",
    "\n",
    "Based on problems from Chapter 14 of Ben Lambert's \"[A Student's Guide to Bayesian Statistics](https://study.sagepub.com/lambert)\"."
   ]
  },
  {
   "cell_type": "code",
   "execution_count": 1,
   "metadata": {},
   "outputs": [],
   "source": [
    "import random\n",
    "import numpy as np\n",
    "import pandas as pd\n",
    "from numpy.random import beta, binomial\n",
    "\n",
    "from gibbs_param import Parameter"
   ]
  },
  {
   "cell_type": "markdown",
   "metadata": {},
   "source": [
    "## 14.1 - Disease Testing\n",
    "\n",
    "The test for a particular tropical disease is known to be imperfect, not always identifying the disease if the patient has it, and sometimes yielding false \n",
    "positives (patients that do not have the disease but test positive). \n",
    "\n",
    "However, by using this test in a clinical trial it is hoped that we can obtain better estimates for the test sensitivity ($S$, the proportion of disease-positive individuals who test positive) and specificity ($C$, the proportion of disease-negative individuals who test negative).\n"
   ]
  },
  {
   "cell_type": "markdown",
   "metadata": {},
   "source": [
    "To do this we can construct a table of the observed and latent data for the test outcomes (see below). In the table $a$ and $b$ are the number of observed positive and negative results, respectively. $Y_{1}$ and $Y_{2}$ are latent variables that represent the gold standard – the true number of positive\n",
    "individuals out of $a$ and $b$, respectively.\n",
    "\n",
    "\n",
    "|   | True +     | True - | Sum |\n",
    "| ----------- | ----------- | ----------- | ----------- |\n",
    "| **Test +**    | $Y_{1}$      | $ a - Y_{1}$  | $a$ |\n",
    "| **Test -**  | $Y_{2}$       | $b - Y_{2}$  |  $b$  |\n",
    "| **Sum**  | $Y_{1} + Y_{2}$       | $N - (Y_{1} +Y_{2})$  |  $N$  |"
   ]
  },
  {
   "cell_type": "markdown",
   "metadata": {},
   "source": [
    "### Likelihood\n",
    "\n",
    "Assuming the prevalence of the disease is $\\pi$, we may write the likelihood as:\n",
    "\n",
    "$$\n",
    "L(a,b| Y_{1}, Y_{2}, \\pi, S, C) = [\\pi S]^{Y_{1}} \\times [(1 - \\pi)(1 - C)]^{a - Y_{1}} \\times [\\pi(1 - S)]^{Y_{2}} \\times [(1 - \\pi)C]^{b - Y_{2}}\n",
    "$$\n",
    "\n",
    "(The first term $[\\pi S]^{Y_{1}}$ is the proportion of individuals with the disease ($\\pi$) times the test specificity ($S$), giving the probability that we correctly identify one person as having the disease. This is raised to the power $Y_{1}$ since there are this many individuals with the disease in our sample.)\n",
    "\n"
   ]
  },
  {
   "cell_type": "markdown",
   "metadata": {},
   "source": [
    "### Priors\n",
    "\n",
    "Let us assume priors of the form:\n",
    "\n",
    "* $\\pi ∼ beta(\\alpha_{\\pi} , \\beta_{\\pi})$\n",
    "* $S ∼ beta(\\alpha_{S} , \\beta_{S})$\n",
    "* $C ∼ beta(\\alpha_{C} , \\beta_{C})$\n",
    "\n",
    "Using these, the Gibbs sampler is of the form:\n",
    "\n",
    "* $Y_{1}|a, \\pi, S, C \\sim binomial \\left(a, \\frac{\\pi S}{\\pi S + (1-\\pi)(1-C)} \\right)$\n",
    "* $Y_{2}|b, \\pi, S, C \\sim binomial \\left(b, \\frac{\\pi (1 -S)}{\\pi (1-S) + (1-\\pi)C} \\right)$\n",
    "* $\\pi |a,b,Y_{1},Y_{2} \\sim beta(Y_{1} + Y_{2} + \\alpha_{\\pi}, a+b-Y_{1}-Y_{2}+\\beta_{\\pi})$\n",
    "* $ S|Y_{1}, Y_{2} \\sim beta(Y_{1} + \\alpha_{S}, Y_{2} +\\beta_{S})$\n",
    "* $ C|a,b,Y_{1}, Y_{2} \\sim beta(b-Y_{2} + \\alpha_{C},a-Y_{1} +\\beta_{C})$"
   ]
  },
  {
   "cell_type": "code",
   "execution_count": 6,
   "metadata": {},
   "outputs": [],
   "source": [
    "# Gibbs sampler\n",
    "\n",
    "def gibbs_sampler(N, params):\n",
    "    \"\"\"Conducts N iterations of a Gibbs Sampler.\n",
    "    \n",
    "    params: Dictionary of all parameters + constants required for \n",
    "        calculating conditional posterior distributions\n",
    "    \"\"\"\n",
    "    history = []\n",
    "    for _ in range(N):\n",
    "        row = {}\n",
    "        random.shuffle(list(params.keys()))\n",
    "        for key in list(params.keys()):\n",
    "            if isinstance(params[key], Parameter):\n",
    "                value = params[key].sample(params)\n",
    "                params[key].value = value\n",
    "                row[key] = value\n",
    "        history.append(row)\n",
    "    return pd.DataFrame(history)"
   ]
  },
  {
   "cell_type": "code",
   "execution_count": 7,
   "metadata": {},
   "outputs": [
    {
     "name": "stdout",
     "output_type": "stream",
     "text": [
      "   Y1  Y2        pi         S         C\n",
      "0  80  20  0.970775  0.793120  0.486402\n",
      "1  79  20  0.979759  0.805765  0.209619\n",
      "2  78  19  0.963122  0.799151  0.677849\n",
      "3  79  15  0.929881  0.885412  0.937643\n",
      "4  80  10  0.853787  0.896251  0.975332\n",
      "5  80   7  0.854861  0.875808  0.910160\n",
      "6  79  10  0.832433  0.913319  0.856677\n",
      "7  78   5  0.818289  0.938200  0.901447\n",
      "8  78   5  0.763549  0.925088  0.915165\n",
      "9  75   3  0.732739  0.970279  0.776477\n"
     ]
    }
   ],
   "source": [
    "priors = {'alpha_pi': 1, 'beta_pi': 1,\n",
    "          'alpha_S': 1, 'beta_S': 1,\n",
    "          'alpha_C': 1, 'beta_C': 1}\n",
    "sample = {'a': 80, 'b': 20}\n",
    "\n",
    "params = {\n",
    "    'Y1': Parameter(sample['a'], binomial, lambda a, pi, S, C, **kwargs: {'n':a, 'p':(pi*S)/((pi*S)+(1-pi)*(1-C))}),\n",
    "    'Y2': Parameter(sample['b'], binomial, lambda b, pi, S, C, **kwargs: {'n':b, 'p':(pi*(1-S))/((pi*(1-S))+(1-pi)*C)}),\n",
    "    'pi': Parameter(1, beta, lambda a, b, Y1, Y2, **kwargs: {'a':Y1+Y2+priors['alpha_pi'], 'b': a+b-Y1-Y2+priors['beta_pi']}),\n",
    "    'S': Parameter(0.9, beta, lambda Y1, Y2, **kwargs: {'a':Y1+priors['alpha_S'], 'b': Y2+priors['beta_S']}),\n",
    "    'C': Parameter(0.9, beta, lambda a, b, Y1, Y2, **kwargs: {'a':b-Y2+priors['alpha_C'], 'b': a-Y1+priors['beta_C']})\n",
    "}  # Defines initial starting point - give Yi as the sample values, and S,C as 90% accurate\n",
    "\n",
    "gibbs = gibbs_sampler(10, params = {**params, **priors, **sample})\n",
    "print(gibbs)"
   ]
  }
 ],
 "metadata": {
  "kernelspec": {
   "display_name": "Python 3.8.10 64-bit",
   "language": "python",
   "name": "python3"
  },
  "language_info": {
   "codemirror_mode": {
    "name": "ipython",
    "version": 3
   },
   "file_extension": ".py",
   "mimetype": "text/x-python",
   "name": "python",
   "nbconvert_exporter": "python",
   "pygments_lexer": "ipython3",
   "version": "3.8.10"
  },
  "orig_nbformat": 4,
  "vscode": {
   "interpreter": {
    "hash": "916dbcbb3f70747c44a77c7bcd40155683ae19c65e1c03b4aa3499c5328201f1"
   }
  }
 },
 "nbformat": 4,
 "nbformat_minor": 2
}
