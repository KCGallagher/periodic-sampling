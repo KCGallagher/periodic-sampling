{
 "cells": [
  {
   "cell_type": "markdown",
   "metadata": {},
   "source": [
    "# Example Gibbs Sampler\n",
    "\n",
    "Based on problems from Chapter 14 of Ben Lambert's \"[A Student's Guide to Bayesian Statistics](https://study.sagepub.com/lambert)\"."
   ]
  },
  {
   "cell_type": "code",
   "execution_count": 1,
   "metadata": {},
   "outputs": [],
   "source": [
    "import random\n",
    "import numpy as np\n",
    "import pandas as pd\n",
    "import matplotlib.pyplot as plt\n",
    "from numpy.random import beta, binomial, gamma\n",
    "\n",
    "from gibbs_param import Parameter\n",
    "from gibbs_methods import GibbsSampler"
   ]
  },
  {
   "cell_type": "markdown",
   "metadata": {},
   "source": [
    "## 14.1 - Disease Testing\n",
    "\n",
    "The test for a particular tropical disease is known to be imperfect, not always identifying the disease if the patient has it, and sometimes yielding false \n",
    "positives (patients that do not have the disease but test positive). \n",
    "\n",
    "However, by using this test in a clinical trial it is hoped that we can obtain better estimates for the test sensitivity ($S$, the proportion of disease-positive individuals who test positive) and specificity ($C$, the proportion of disease-negative individuals who test negative) [[Joseph1995]](https://pubmed.ncbi.nlm.nih.gov/7840100/).\n"
   ]
  },
  {
   "cell_type": "markdown",
   "metadata": {},
   "source": [
    "To do this we can construct a table of the observed and latent data for the test outcomes (see below). In the table $a$ and $b$ are the number of observed positive and negative results, respectively. $Y_{1}$ and $Y_{2}$ are latent variables that represent the gold standard – the true number of positive\n",
    "individuals out of $a$ and $b$, respectively.\n",
    "\n",
    "\n",
    "|   | True +     | True - | Sum |\n",
    "| ----------- | ----------- | ----------- | ----------- |\n",
    "| **Test +**    | $Y_{1}$      | $ a - Y_{1}$  | $a$ |\n",
    "| **Test -**  | $Y_{2}$       | $b - Y_{2}$  |  $b$  |\n",
    "| **Sum**  | $Y_{1} + Y_{2}$       | $N - (Y_{1} +Y_{2})$  |  $N$  |"
   ]
  },
  {
   "cell_type": "markdown",
   "metadata": {},
   "source": [
    "### Likelihood\n",
    "\n",
    "Assuming the prevalence of the disease is $\\pi$, we may write the likelihood as:\n",
    "\n",
    "$$\n",
    "L(a,b| Y_{1}, Y_{2}, \\pi, S, C) = [\\pi S]^{Y_{1}} \\times [(1 - \\pi)(1 - C)]^{a - Y_{1}} \\times [\\pi(1 - S)]^{Y_{2}} \\times [(1 - \\pi)C]^{b - Y_{2}}\n",
    "$$\n",
    "\n",
    "(The first term $[\\pi S]^{Y_{1}}$ is the proportion of individuals with the disease ($\\pi$) times the test specificity ($S$), giving the probability that we correctly identify one person as having the disease. This is raised to the power $Y_{1}$ since there are this many individuals with the disease in our sample.)\n",
    "\n"
   ]
  },
  {
   "cell_type": "markdown",
   "metadata": {},
   "source": [
    "### Priors\n",
    "\n",
    "Let us assume priors of the form:\n",
    "\n",
    "* $\\pi ∼ beta(\\alpha_{\\pi} , \\beta_{\\pi})$\n",
    "* $S ∼ beta(\\alpha_{S} , \\beta_{S})$\n",
    "* $C ∼ beta(\\alpha_{C} , \\beta_{C})$\n",
    "\n",
    "Using these, the Gibbs sampler is of the form:\n",
    "\n",
    "* $Y_{1}|a, \\pi, S, C \\sim binomial\\left(a, \\frac{\\pi S}{\\pi S + (1-\\pi)(1-C)} \\right)$\n",
    "* $Y_{2}|b, \\pi, S, C \\sim binomial\\left(b, \\frac{\\pi (1 -S)}{\\pi (1-S) + (1-\\pi)C} \\right)$\n",
    "* $\\pi |a,b,Y_{1},Y_{2} \\sim beta(Y_{1} + Y_{2} + \\alpha_{\\pi}, a+b-Y_{1}-Y_{2}+\\beta_{\\pi})$\n",
    "* $ S|Y_{1}, Y_{2} \\sim beta(Y_{1} + \\alpha_{S}, Y_{2} +\\beta_{S})$\n",
    "* $ C|a,b,Y_{1}, Y_{2} \\sim beta(b-Y_{2} + \\alpha_{C},a-Y_{1} +\\beta_{C})$"
   ]
  },
  {
   "cell_type": "code",
   "execution_count": 2,
   "metadata": {},
   "outputs": [
    {
     "data": {
      "image/png": "[encoded data removed]",
      "text/plain": [
       "<Figure size 432x288 with 1 Axes>"
      ]
     },
     "metadata": {
      "needs_background": "light"
     },
     "output_type": "display_data"
    }
   ],
   "source": [
    "prior_params = {'alpha_pi': 1, 'beta_pi': 1,  # Uniform prior for beta dist\n",
    "                'alpha_S': 10, 'beta_S': 1,  # Informed prior from previous study\n",
    "                'alpha_C': 10, 'beta_C': 1}\n",
    "\n",
    "# Sample initial values from the priors\n",
    "priors = {'pi': beta(prior_params['alpha_pi'], prior_params['beta_pi']),\n",
    "          'S': beta(prior_params['alpha_S'], prior_params['beta_S']),\n",
    "          'C': beta(prior_params['alpha_C'], prior_params['beta_C'])}\n",
    "sample = {'a': 20, 'b':  80}  # From sample dataset\n",
    "\n",
    "params = {\n",
    "    'Y1': Parameter(sample['a'], binomial, lambda a, pi, S, C, **kwargs: {'n':a, 'p':(pi*S)/((pi*S)+(1-pi)*(1-C))}),\n",
    "    'Y2': Parameter(sample['b'], binomial, lambda b, pi, S, C, **kwargs: {'n':b, 'p':(pi*(1-S))/((pi*(1-S))+(1-pi)*C)}),\n",
    "    'pi': Parameter(priors['pi'], beta, lambda a, b, Y1, Y2, **kwargs: {'a':Y1+Y2+prior_params['alpha_pi'], 'b': a+b-Y1-Y2+prior_params['beta_pi']}),\n",
    "    'S': Parameter(priors['S'], beta, lambda Y1, Y2, **kwargs: {'a':Y1+prior_params['alpha_S'], 'b': Y2+prior_params['beta_S']}),\n",
    "    'C': Parameter(priors['C'], beta, lambda a, b, Y1, Y2, **kwargs: {'a':b-Y2+prior_params['alpha_C'], 'b': a-Y1+prior_params['beta_C']})\n",
    "}\n",
    "\n",
    "gibbs = GibbsSampler(params = {**params, **prior_params, **sample})\n",
    "output = gibbs.sampling_routine(100000)\n",
    "output.hist('pi', bins=50);"
   ]
  },
  {
   "cell_type": "markdown",
   "metadata": {},
   "source": [
    "## 14.2 - Mining Disasters\n",
    "\n",
    "We consider time series of the annual number of coal mining disasters in the UK from 1851 to 1961 [5], using Gibbs sampling to estimate the point in time when legislative and societal changes caused a reduction in coal mining disasters."
   ]
  },
  {
   "cell_type": "markdown",
   "metadata": {},
   "source": [
    "### Model\n",
    "\n",
    "We will model the number of disasters $D_{t}$ in a given year $t$ by:\n",
    "\n",
    "$$\n",
    "D_{t} \\sim Poisson(\\lambda(t))\n",
    "$$\n",
    "\n",
    "where $\\lambda(t) = \\lambda_{1}$ for $t \\leq n$, and $\\lambda(t) = \\lambda_{2}$ for $t > n$."
   ]
  },
  {
   "cell_type": "code",
   "execution_count": 3,
   "metadata": {},
   "outputs": [
    {
     "data": {
      "image/png": "[encoded data removed]",
      "text/plain": [
       "<Figure size 432x288 with 1 Axes>"
      ]
     },
     "metadata": {
      "needs_background": "light"
     },
     "output_type": "display_data"
    }
   ],
   "source": [
    "# Data trends\n",
    "\n",
    "mine_df = pd.read_csv(\"../../data/other/gibbs_coal.csv\")\n",
    "mine_df.plot('Year', 'Count');\n",
    "# Clear change in disaster rate between 1880 - 1900."
   ]
  },
  {
   "cell_type": "markdown",
   "metadata": {},
   "source": [
    "### Priors\n",
    "\n",
    "Let us assume the same $\\lambda_{i} \\sim \\Gamma(a,b)$ priors for $i = {1,2}$, and a discrete uniform prior for $n$ between 1851 and 1961.\n",
    "\n",
    "The full (un-normalised) posterior density $P(\\lambda_{i}|x_{t}) = P(x_{t}|\\lambda_{i})P(\\lambda_{i})$ is therefore given in full by:\n",
    "\n",
    "$$\n",
    "P(\\lambda_{1},\\lambda_{2},n|x_{1:N},a,b) \\propto p(x_{1:n}|\\lambda_{1})p(x_{n+1:N}|\\lambda_{2})p(\\lambda_{1}|a,b)p(\\lambda_{2}|a,b)p(n)\n",
    "$$\n",
    "\n",
    "This probability for unknowns (rates $\\lambda_{i}$ and changepoint $n$) is conditional upon the known prior parameters ($a, b$, as well as the data $x_{1:N}$). We can calculate this explicitly:\n",
    "\n",
    "$$\n",
    "p(x_{1:n}|\\lambda_{1})p(x_{n+1:N}|\\lambda_{2})p(\\lambda_{1}|a,b)p(\\lambda_{2}|a,b)p(n)\n",
    " = Poisson(x_{1:n}|\\lambda_{1}) Poisson(x_{n+1:N}|\\lambda_{2}) \\times \\Gamma(\\lambda_{1}|a,b) \\Gamma(\\lambda_{2}|a,b) p(n)\n",
    "$$"
   ]
  },
  {
   "cell_type": "markdown",
   "metadata": {},
   "source": [
    "### Conditional Distribution\n",
    "\n",
    "#### Rate Constants\n",
    "We may determine the conditional distribution for $\\lambda_{1}$ ($p(\\lambda_{1}|x_{1:n},a,b)$) by finding all those terms in the density that include $\\lambda_{1}$, and removing the rest as constants of proportionality. Therefore:\n",
    "\n",
    "$$\n",
    "p(\\lambda_{1}|x_{1:n},a,b) \\propto Poisson(x_{1:n}|\\lambda_{1}) \\times \\Gamma(\\lambda_{1}|a,b)\n",
    "$$\n",
    "\n",
    "However, as the gamma distribution ia the conjugate prior to the Poisson likelihood, we can obtain:\n",
    "\n",
    "$$\n",
    "p(\\lambda_{1}|x_{1:n},a,b) \\sim \\Gamma \\left(a + \\sum_{t=1}^{n}x_{t}, b+n \\right)\n",
    "$$\n",
    "\n",
    "Similarly for $\\lambda_{2}$:\n",
    "\n",
    "$$\n",
    "p(\\lambda_{2}|x_{n+1:N},a,b) \\sim \\Gamma \\left(a + \\sum_{t=n+1}^{N}x_{t}, b+N-n \\right)\n",
    "$$\n",
    "\n",
    "#### Changepoint\n",
    "\n",
    "We may write the conditional distribution for $n$ as:\n",
    "\n",
    "$$\n",
    "p(n|x_{1:N},\\lambda_{1},\\lambda_{2}) \\propto Poisson(x_{1:n}|\\lambda_{1}) Poisson(x_{n+1:N}|\\lambda_{2}) p(n)\n",
    "$$\n",
    "\n",
    "Assuming a uniform prior for $n$ (equal to $1/N$), and writing each term explicitly:\n",
    "\n",
    "$$\n",
    "p(n|x_{1:N},\\lambda_{1},\\lambda_{2}) \\propto \\left(\\prod_{t=1}^{n}\\frac{\\lambda_{1}^{x_{t}}e^{-\\lambda_{1}}}{x_{t}!} \\right) \\times \\left(\\prod_{t=n+1}^{N}\\frac{\\lambda_{2}^{x_{t}}e^{-\\lambda_{2}}}{x_{t}!} \\right) \n",
    "$$\n",
    "\n",
    "from which we can drop the constant terms to obtain:\n",
    "\n",
    "$$\n",
    "p(n|x_{1:N},\\lambda_{1},\\lambda_{2}) \\propto \\lambda_{1}^{\\sum_{t=1}^{n}x_{t}}e^{-n\\lambda_{1}}  \\times \\lambda_{2}^{\\sum_{t=n+1}^{N}x_{t}}e^{-(N-n)\\lambda_{2}}\n",
    "$$\n",
    "\n"
   ]
  },
  {
   "cell_type": "code",
   "execution_count": 4,
   "metadata": {},
   "outputs": [],
   "source": [
    "def unnormalised_posterior_n(n, x, lambda_1, lambda_2):\n",
    "    \"\"\"Unnormalised conditional distribution for changepoint n, conditional on\n",
    "    the data x and the rates (before/after) lambda_1 and lambda_2.\"\"\"\n",
    "    if n == len(x):\n",
    "        return 0  # Change cannot occur at final point\n",
    "    term_1 = lambda_1**(sum(x[:int(n+1)])) * np.exp(-n * lambda_1)\n",
    "    term_2 = lambda_2**(sum(x[int(n+1):])) * np.exp(-(len(x) - n) * lambda_2)\n",
    "    return term_1 * term_2"
   ]
  },
  {
   "cell_type": "code",
   "execution_count": 5,
   "metadata": {},
   "outputs": [
    {
     "name": "stdout",
     "output_type": "stream",
     "text": [
      "Peak probability for changepoint occurs in 1890.\n"
     ]
    },
    {
     "data": {
      "image/png": "[encoded data removed]",
      "text/plain": [
       "<Figure size 432x288 with 1 Axes>"
      ]
     },
     "metadata": {
      "needs_background": "light"
     },
     "output_type": "display_data"
    }
   ],
   "source": [
    "def sample_conditional_n(x, lambda_1, lambda_2, **kwargs):\n",
    "    \"\"\"Returns sample from consitional posterior distriubtion for\n",
    "    n, conditional on the data x and the rates (before/after) \n",
    "    lambda_1 and lambda_2.\"\"\"\n",
    "    n_prob = [unnormalised_posterior_n(n, x, lambda_1, lambda_2) for n in range(len(x))]\n",
    "    return random.choices(range(len(x)), weights=n_prob)[0]\n",
    "\n",
    "y, x, _ = plt.hist([int(sample_conditional_n(mine_df['Count'].values, 3.0, 1.0) + min(mine_df['Year'])) for _ in range(2000)]);\n",
    "plt.xlabel('Year (n)'); plt.ylabel(\"Changepoint Frequency\")\n",
    "print(f\"Peak probability for changepoint occurs in {int(x[np.where(y == y.max())][0])}.\")"
   ]
  },
  {
   "cell_type": "code",
   "execution_count": 6,
   "metadata": {},
   "outputs": [
    {
     "data": {
      "image/png": "[encoded data removed]",
      "text/plain": [
       "<Figure size 1080x288 with 3 Axes>"
      ]
     },
     "metadata": {
      "needs_background": "light"
     },
     "output_type": "display_data"
    }
   ],
   "source": [
    "prior_params = {'a': 1.0, 'b': 1.0}  # Uniform prior for beta dist\n",
    "sample_data = {'x': [float(x) for x in mine_df['Count'].values]}  # From sample dataset\n",
    "\n",
    "params = {\n",
    "    'lambda_1': Parameter(3.0, gamma, lambda a, b, x, n, **kwargs: {'shape':a + sum(x[:int(n)]), 'scale':1/(b+n)}),\n",
    "    'lambda_2': Parameter(1.0, gamma, lambda a, b, x, n, **kwargs: {'shape':a + sum(x[int(n):]), 'scale':1/(b+len(x)-n)}),\n",
    "    'n': Parameter(int(len(sample_data['x'])/2), sample_conditional_n),\n",
    "}  # Reciprocal for scale as (b+n) corresponds to the rate of the process\n",
    "\n",
    "gibbs = GibbsSampler(params = {**params, **prior_params, **sample_data})\n",
    "output = gibbs.sampling_routine(10000)\n",
    "output.hist(['n','lambda_1', 'lambda_2'], bins=20, figsize=(15, 4), layout=(1,3));  \n",
    "# n is number of years since start of data (1851)"
   ]
  },
  {
   "cell_type": "code",
   "execution_count": 8,
   "metadata": {},
   "outputs": [
    {
     "name": "stdout",
     "output_type": "stream",
     "text": [
      "The median estimate obtained for n is 39.0, with its 2.5% and 97.5% quantiles being 35.0 and 44.0 respectively.\n",
      "The posterior medians for the rates are roughly 3.09, and 0.95 respectively.\n"
     ]
    }
   ],
   "source": [
    "# 95% credible interval determined by quantiles from this data\n",
    "u_quant = np.quantile(output['n'], 0.975)\n",
    "l_quant = np.quantile(output['n'], 0.025)\n",
    "median = np.quantile(output['n'], 0.5)\n",
    "\n",
    "print(f\"The median estimate obtained for n is {median}, with its 2.5% and 97.5% quantiles being {l_quant} and {u_quant} respectively.\")\n",
    "\n",
    "print(f\"The posterior medians for the rates are roughly {np.quantile(output['lambda_1'], 0.5):.2f}, and {np.quantile(output['lambda_2'], 0.5):.2f} respectively.\")"
   ]
  }
 ],
 "metadata": {
  "kernelspec": {
   "display_name": "Python 3.8.10 64-bit",
   "language": "python",
   "name": "python3"
  },
  "language_info": {
   "codemirror_mode": {
    "name": "ipython",
    "version": 3
   },
   "file_extension": ".py",
   "mimetype": "text/x-python",
   "name": "python",
   "nbconvert_exporter": "python",
   "pygments_lexer": "ipython3",
   "version": "3.8.10"
  },
  "orig_nbformat": 4,
  "vscode": {
   "interpreter": {
    "hash": "916dbcbb3f70747c44a77c7bcd40155683ae19c65e1c03b4aa3499c5328201f1"
   }
  }
 },
 "nbformat": 4,
 "nbformat_minor": 2
}
