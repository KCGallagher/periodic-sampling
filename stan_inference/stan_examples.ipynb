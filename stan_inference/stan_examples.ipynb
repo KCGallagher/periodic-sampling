{
 "cells": [
  {
   "cell_type": "markdown",
   "metadata": {},
   "source": [
    "# Stan Examples\n",
    "\n",
    "I want to get stan working. \n",
    "\n",
    "## Installation\n",
    "\n",
    "tbc\n"
   ]
  },
  {
   "cell_type": "code",
   "execution_count": 1,
   "metadata": {},
   "outputs": [],
   "source": [
    "import stan\n",
    "\n",
    "import nest_asyncio\n",
    "nest_asyncio.apply()  \n",
    "# Allows nested event loops so that we can run tasks\n",
    "# in Jupyter notebooks while the event loop is running\n",
    "\n",
    "# schools_code = \"\"\"\n",
    "# data {\n",
    "#   int<lower=0> J;         // number of schools\n",
    "#   real y[J];              // estimated treatment effects\n",
    "#   real<lower=0> sigma[J]; // standard error of effect estimates\n",
    "# }\n",
    "# parameters {\n",
    "#   real mu;                // population treatment effect\n",
    "#   real<lower=0> tau;      // standard deviation in treatment effects\n",
    "#   vector[J] eta;          // unscaled deviation from mu by school\n",
    "# }\n",
    "# transformed parameters {\n",
    "#   vector[J] theta = mu + tau * eta;        // school treatment effects\n",
    "# }\n",
    "# model {\n",
    "#   target += normal_lpdf(eta | 0, 1);       // prior log-density\n",
    "#   target += normal_lpdf(y | theta, sigma); // log-likelihood\n",
    "# }\n",
    "# \"\"\"\n",
    "\n",
    "with open(\"schools.stan\") as f:\n",
    "  schools_code = f.read()"
   ]
  },
  {
   "cell_type": "code",
   "execution_count": 2,
   "metadata": {},
   "outputs": [],
   "source": [
    "schools_data = {\"J\": 8,\n",
    "                \"y\": [28,  8, -3,  7, -1,  1, 18, 12],\n",
    "                \"sigma\": [15, 10, 16, 11,  9, 11, 10, 18]}"
   ]
  },
  {
   "cell_type": "code",
   "execution_count": 3,
   "metadata": {},
   "outputs": [
    {
     "name": "stdout",
     "output_type": "stream",
     "text": [
      "Building...\n"
     ]
    },
    {
     "name": "stderr",
     "output_type": "stream",
     "text": [
      "\n",
      "Building: found in cache, done.Messages from stanc:\n",
      "Warning in '/tmp/httpstan_g32ch6p6/model_gbn5vn2y.stan', line 3, column 2: Declaration\n",
      "    of arrays by placing brackets after a variable name is deprecated and\n",
      "    will be removed in Stan 2.32.0. Instead use the array keyword before the\n",
      "    type. This can be changed automatically using the auto-format flag to\n",
      "    stanc\n",
      "Warning in '/tmp/httpstan_g32ch6p6/model_gbn5vn2y.stan', line 4, column 2: Declaration\n",
      "    of arrays by placing brackets after a variable name is deprecated and\n",
      "    will be removed in Stan 2.32.0. Instead use the array keyword before the\n",
      "    type. This can be changed automatically using the auto-format flag to\n",
      "    stanc\n",
      "Warning: The parameter tau has no priors. This means either no prior is\n",
      "    provided, or the prior(s) depend on data variables. In the later case,\n",
      "    this may be a false positive.\n",
      "Warning: The parameter mu has no priors. This means either no prior is\n",
      "    provided, or the prior(s) depend on data variables. In the later case,\n",
      "    this may be a false positive.\n"
     ]
    }
   ],
   "source": [
    "posterior = stan.build(schools_code, data=schools_data, random_seed=1)\n"
   ]
  },
  {
   "cell_type": "code",
   "execution_count": 4,
   "metadata": {},
   "outputs": [
    {
     "name": "stderr",
     "output_type": "stream",
     "text": [
      "Sampling:   0%\n",
      "Sampling:  25% (2000/8000)\n",
      "Sampling:  50% (4000/8000)\n",
      "Sampling:  75% (6000/8000)\n",
      "Sampling: 100% (8000/8000)\n",
      "Sampling: 100% (8000/8000), done.\n",
      "Messages received during sampling:\n",
      "  Gradient evaluation took 1.5e-05 seconds\n",
      "  1000 transitions using 10 leapfrog steps per transition would take 0.15 seconds.\n",
      "  Adjust your expectations accordingly!\n",
      "  Gradient evaluation took 1.7e-05 seconds\n",
      "  1000 transitions using 10 leapfrog steps per transition would take 0.17 seconds.\n",
      "  Adjust your expectations accordingly!\n",
      "  Gradient evaluation took 1.3e-05 seconds\n",
      "  1000 transitions using 10 leapfrog steps per transition would take 0.13 seconds.\n",
      "  Adjust your expectations accordingly!\n",
      "  Gradient evaluation took 1.2e-05 seconds\n",
      "  1000 transitions using 10 leapfrog steps per transition would take 0.12 seconds.\n",
      "  Adjust your expectations accordingly!\n"
     ]
    }
   ],
   "source": [
    "fit = posterior.sample(num_chains=4, num_samples=1000)"
   ]
  },
  {
   "cell_type": "code",
   "execution_count": 5,
   "metadata": {},
   "outputs": [
    {
     "name": "stdout",
     "output_type": "stream",
     "text": [
      "                count       mean       std            min        25%  \\\n",
      "parameters                                                             \n",
      "lp__           4000.0 -39.558364  2.640910  -5.022812e+01 -41.190495   \n",
      "accept_stat__  4000.0   0.837646  0.231352  9.238959e-285   0.796451   \n",
      "stepsize__     4000.0   0.382061  0.048842   3.189488e-01   0.360265   \n",
      "treedepth__    4000.0   3.216750  0.527578   1.000000e+00   3.000000   \n",
      "n_leapfrog__   4000.0  10.238500  4.222982   1.000000e+00   7.000000   \n",
      "divergent__    4000.0   0.001000  0.031611   0.000000e+00   0.000000   \n",
      "energy__       4000.0  44.540499  3.422487   3.460108e+01  42.107246   \n",
      "mu             4000.0   8.313130  5.403206  -8.820034e+00   5.027539   \n",
      "tau            4000.0   6.756199  5.970169   4.333026e-04   2.419978   \n",
      "eta.1          4000.0   0.393585  0.956854  -3.154297e+00  -0.252585   \n",
      "eta.2          4000.0  -0.019616  0.867496  -3.265697e+00  -0.584222   \n",
      "eta.3          4000.0  -0.212549  0.911758  -3.381211e+00  -0.844201   \n",
      "eta.4          4000.0  -0.042765  0.872583  -3.404953e+00  -0.644151   \n",
      "eta.5          4000.0  -0.383809  0.866469  -3.595238e+00  -0.941108   \n",
      "eta.6          4000.0  -0.228400  0.868941  -3.797658e+00  -0.819219   \n",
      "eta.7          4000.0   0.309332  0.900368  -3.297630e+00  -0.280125   \n",
      "eta.8          4000.0   0.036440  0.946785  -3.151944e+00  -0.574753   \n",
      "theta.1        4000.0  11.616151  8.684781  -2.399251e+01   6.019874   \n",
      "theta.2        4000.0   8.032012  6.149267  -2.147425e+01   4.172057   \n",
      "theta.3        4000.0   6.302096  7.525234  -2.983567e+01   2.031697   \n",
      "theta.4        4000.0   7.822378  6.566673  -2.721961e+01   3.866387   \n",
      "theta.5        4000.0   5.120059  6.439241  -2.252847e+01   1.277599   \n",
      "theta.6        4000.0   6.228908  6.696848  -3.626167e+01   2.437097   \n",
      "theta.7        4000.0  10.717375  7.181563  -1.945068e+01   6.146577   \n",
      "theta.8        4000.0   8.603048  7.985557  -3.229302e+01   4.178084   \n",
      "\n",
      "                     50%        75%        max  \n",
      "parameters                                      \n",
      "lp__          -39.321104 -37.670424 -32.637166  \n",
      "accept_stat__   0.941358   0.983610   1.000000  \n",
      "stepsize__      0.376590   0.398386   0.456114  \n",
      "treedepth__     3.000000   4.000000   4.000000  \n",
      "n_leapfrog__    7.000000  15.000000  31.000000  \n",
      "divergent__     0.000000   0.000000   1.000000  \n",
      "energy__       44.235021  46.746988  59.167054  \n",
      "mu              8.064423  11.318195  34.325284  \n",
      "tau             5.350647   9.450967  55.135231  \n",
      "eta.1           0.421414   1.051978   3.689074  \n",
      "eta.2          -0.034560   0.529188   3.653609  \n",
      "eta.3          -0.215277   0.376808   3.242550  \n",
      "eta.4          -0.057409   0.544019   2.766579  \n",
      "eta.5          -0.406867   0.176159   3.084945  \n",
      "eta.6          -0.242482   0.329946   2.913392  \n",
      "eta.7           0.318836   0.899436   3.515417  \n",
      "eta.8           0.026579   0.649638   3.731120  \n",
      "theta.1        10.244220  15.671509  54.896504  \n",
      "theta.2         7.936188  11.787693  32.907588  \n",
      "theta.3         6.689474  10.976713  37.711331  \n",
      "theta.4         7.796768  11.702725  35.013909  \n",
      "theta.5         5.674381   9.470167  26.743890  \n",
      "theta.6         6.579058  10.389067  39.724277  \n",
      "theta.7         9.921003  14.538808  43.595247  \n",
      "theta.8         8.342216  12.651696  60.842819  \n"
     ]
    }
   ],
   "source": [
    "eta = fit[\"eta\"]  # array with shape (8, 4000)\n",
    "df = fit.to_frame()\n",
    "print(df.describe().T)"
   ]
  },
  {
   "cell_type": "markdown",
   "metadata": {},
   "source": [
    "## Covid Timeseries Example\n",
    "\n",
    "Based on the deterministic reporting (fixed bias) model, initially with a known R value\n",
    "\n",
    "### Data Generation"
   ]
  },
  {
   "cell_type": "code",
   "execution_count": 6,
   "metadata": {},
   "outputs": [],
   "source": [
    "import datetime\n",
    "import numpy as np\n",
    "import pandas as pd\n",
    "import scipy.stats as ss\n",
    "import matplotlib.pyplot as plt\n",
    "plt.rcParams['font.size'] = '14'\n",
    "\n",
    "from periodic_sampling.synthetic_data import RenewalModel, Reporter"
   ]
  },
  {
   "cell_type": "code",
   "execution_count": 7,
   "metadata": {},
   "outputs": [
    {
     "name": "stderr",
     "output_type": "stream",
     "text": [
      "100%|██████████| 100/100 [00:00<00:00, 145484.01it/s]\n"
     ]
    },
    {
     "data": {
      "image/png": "[encoded data removed]",
      "text/plain": [
       "<Figure size 432x288 with 1 Axes>"
      ]
     },
     "metadata": {
      "needs_background": "light"
     },
     "output_type": "display_data"
    }
   ],
   "source": [
    "# Simulate Renewal Model\n",
    "time_steps = 100; N_0 = 100; seed=41; R0 = 0.99\n",
    "start_date = '01/01/2020'; bias_method = 'scale'\n",
    "\n",
    "bias = [0.5, 1.4, 1.2, 1.1, 1.1, 1.1, 0.6]  # Always given with monday first\n",
    "\n",
    "np.random.seed(seed)\n",
    "model = RenewalModel()\n",
    "model.simulate(T=time_steps, N_0=N_0, R_0=0.99)\n",
    "model.plot()"
   ]
  },
  {
   "cell_type": "code",
   "execution_count": 8,
   "metadata": {},
   "outputs": [],
   "source": [
    "# Report unbiased and biased data\n",
    "rep = Reporter(model.case_data, start_date=start_date)  # Start on Mon 6th for ease\n",
    "\n",
    "truth_df = rep.unbiased_report()\n",
    "bias_df = rep.fixed_bias_report(bias=bias, method=bias_method)"
   ]
  },
  {
   "cell_type": "markdown",
   "metadata": {},
   "source": [
    "### Inference Framework"
   ]
  },
  {
   "cell_type": "code",
   "execution_count": 55,
   "metadata": {},
   "outputs": [],
   "source": [
    "import os\n",
    "\n",
    "class suppress_stdout_stderr(object):\n",
    "    '''\n",
    "    A context manager for doing a \"deep suppression\" of stdout and stderr in\n",
    "    Python, i.e. will suppress all print, even if the print originates in a\n",
    "    compiled C/Fortran sub-function.\n",
    "       This will not suppress raised exceptions, since exceptions are printed\n",
    "    to stderr just before a script exits, and after the context manager has\n",
    "    exited (at least, I think that is why it lets exceptions through).\n",
    "    Credit to randlet (https://github.com/facebook/prophet/issues/223).\n",
    "\n",
    "    '''\n",
    "    def __init__(self):\n",
    "        # Open a pair of null files\n",
    "        self.null_fds = [os.open(os.devnull, os.O_RDWR) for x in range(2)]\n",
    "        # Save the actual stdout (1) and stderr (2) file descriptors.\n",
    "        self.save_fds = [os.dup(1), os.dup(2)]\n",
    "\n",
    "    def __enter__(self):\n",
    "        # Assign the null pointers to stdout and stderr.\n",
    "        os.dup2(self.null_fds[0], 1)\n",
    "        os.dup2(self.null_fds[1], 2)\n",
    "\n",
    "    def __exit__(self, *_):\n",
    "        # Re-assign the real stdout/stderr back to (1) and (2)\n",
    "        os.dup2(self.save_fds[0], 1)\n",
    "        os.dup2(self.save_fds[1], 2)\n",
    "        # Close the null files\n",
    "        for fd in self.null_fds + self.save_fds:\n",
    "            os.close(fd)"
   ]
  },
  {
   "cell_type": "code",
   "execution_count": 72,
   "metadata": {},
   "outputs": [
    {
     "name": "stdout",
     "output_type": "stream",
     "text": [
      "Building...\n"
     ]
    },
    {
     "name": "stderr",
     "output_type": "stream",
     "text": [
      "Building: Semantic error:   -------------------------------------------------\n",
      "     4:                  return (C[1] / alpha[1]);\n",
      "     5:              else\n",
      "     6:                  return C[i];\n",
      "                                  ^\n",
      "     7:              // int n_terms_lambda = min(max_t + 1, size(omega));  // Number of terms in sum for lambda\n",
      "     8:  \n",
      "   -------------------------------------------------\n",
      "\n",
      "Identifier 'i' not in scope."
     ]
    },
    {
     "ename": "ValueError",
     "evalue": "Semantic error",
     "output_type": "error",
     "traceback": [
      "\u001b[0;31m---------------------------------------------------------------------------\u001b[0m",
      "\u001b[0;31mValueError\u001b[0m                                Traceback (most recent call last)",
      "\u001b[1;32m/auto/users/kither/Documents/periodic-sampling/stan_inference/stan_examples.ipynb Cell 13\u001b[0m in \u001b[0;36m<cell line: 9>\u001b[0;34m()\u001b[0m\n\u001b[1;32m      <a href='vscode-notebook-cell:/auto/users/kither/Documents/periodic-sampling/stan_inference/stan_examples.ipynb#X23sZmlsZQ%3D%3D?line=3'>4</a>\u001b[0m fixed_bias_data \u001b[39m=\u001b[39m {\n\u001b[1;32m      <a href='vscode-notebook-cell:/auto/users/kither/Documents/periodic-sampling/stan_inference/stan_examples.ipynb#X23sZmlsZQ%3D%3D?line=4'>5</a>\u001b[0m     \u001b[39m\"\u001b[39m\u001b[39mC\u001b[39m\u001b[39m\"\u001b[39m: \u001b[39mlist\u001b[39m(bias_df[\u001b[39m'\u001b[39m\u001b[39mConfirmed\u001b[39m\u001b[39m'\u001b[39m]),\n\u001b[1;32m      <a href='vscode-notebook-cell:/auto/users/kither/Documents/periodic-sampling/stan_inference/stan_examples.ipynb#X23sZmlsZQ%3D%3D?line=5'>6</a>\u001b[0m     \u001b[39m\"\u001b[39m\u001b[39mR\u001b[39m\u001b[39m\"\u001b[39m: \u001b[39m0.99\u001b[39m,\n\u001b[1;32m      <a href='vscode-notebook-cell:/auto/users/kither/Documents/periodic-sampling/stan_inference/stan_examples.ipynb#X23sZmlsZQ%3D%3D?line=6'>7</a>\u001b[0m     \u001b[39m\"\u001b[39m\u001b[39mserial_interval\u001b[39m\u001b[39m\"\u001b[39m: RenewalModel(R0\u001b[39m=\u001b[39m\u001b[39mNone\u001b[39;00m)\u001b[39m.\u001b[39mserial_interval\n\u001b[1;32m      <a href='vscode-notebook-cell:/auto/users/kither/Documents/periodic-sampling/stan_inference/stan_examples.ipynb#X23sZmlsZQ%3D%3D?line=7'>8</a>\u001b[0m }\n\u001b[1;32m      <a href='vscode-notebook-cell:/auto/users/kither/Documents/periodic-sampling/stan_inference/stan_examples.ipynb#X23sZmlsZQ%3D%3D?line=8'>9</a>\u001b[0m \u001b[39mwith\u001b[39;00m suppress_stdout_stderr():\n\u001b[0;32m---> <a href='vscode-notebook-cell:/auto/users/kither/Documents/periodic-sampling/stan_inference/stan_examples.ipynb#X23sZmlsZQ%3D%3D?line=9'>10</a>\u001b[0m     posterior \u001b[39m=\u001b[39m stan\u001b[39m.\u001b[39;49mbuild(fixed_bias_code, data\u001b[39m=\u001b[39;49mfixed_bias_data, random_seed\u001b[39m=\u001b[39;49m\u001b[39m1\u001b[39;49m)\n",
      "File \u001b[0;32m~/.local/lib/python3.8/site-packages/stan/model.py:518\u001b[0m, in \u001b[0;36mbuild\u001b[0;34m(program_code, data, random_seed)\u001b[0m\n\u001b[1;32m    515\u001b[0m         \u001b[39mreturn\u001b[39;00m Model(model_name, program_code, data, param_names, constrained_param_names, dims, random_seed)\n\u001b[1;32m    517\u001b[0m \u001b[39mtry\u001b[39;00m:\n\u001b[0;32m--> 518\u001b[0m     \u001b[39mreturn\u001b[39;00m asyncio\u001b[39m.\u001b[39;49mrun(go())\n\u001b[1;32m    519\u001b[0m \u001b[39mexcept\u001b[39;00m \u001b[39mKeyboardInterrupt\u001b[39;00m:\n\u001b[1;32m    520\u001b[0m     \u001b[39mreturn\u001b[39;00m\n",
      "File \u001b[0;32m~/.local/lib/python3.8/site-packages/nest_asyncio.py:35\u001b[0m, in \u001b[0;36m_patch_asyncio.<locals>.run\u001b[0;34m(main, debug)\u001b[0m\n\u001b[1;32m     33\u001b[0m task \u001b[39m=\u001b[39m asyncio\u001b[39m.\u001b[39mensure_future(main)\n\u001b[1;32m     34\u001b[0m \u001b[39mtry\u001b[39;00m:\n\u001b[0;32m---> 35\u001b[0m     \u001b[39mreturn\u001b[39;00m loop\u001b[39m.\u001b[39;49mrun_until_complete(task)\n\u001b[1;32m     36\u001b[0m \u001b[39mfinally\u001b[39;00m:\n\u001b[1;32m     37\u001b[0m     \u001b[39mif\u001b[39;00m \u001b[39mnot\u001b[39;00m task\u001b[39m.\u001b[39mdone():\n",
      "File \u001b[0;32m~/.local/lib/python3.8/site-packages/nest_asyncio.py:89\u001b[0m, in \u001b[0;36m_patch_loop.<locals>.run_until_complete\u001b[0;34m(self, future)\u001b[0m\n\u001b[1;32m     86\u001b[0m \u001b[39mif\u001b[39;00m \u001b[39mnot\u001b[39;00m f\u001b[39m.\u001b[39mdone():\n\u001b[1;32m     87\u001b[0m     \u001b[39mraise\u001b[39;00m \u001b[39mRuntimeError\u001b[39;00m(\n\u001b[1;32m     88\u001b[0m         \u001b[39m'\u001b[39m\u001b[39mEvent loop stopped before Future completed.\u001b[39m\u001b[39m'\u001b[39m)\n\u001b[0;32m---> 89\u001b[0m \u001b[39mreturn\u001b[39;00m f\u001b[39m.\u001b[39;49mresult()\n",
      "File \u001b[0;32m/usr/lib/python3.8/asyncio/futures.py:178\u001b[0m, in \u001b[0;36mFuture.result\u001b[0;34m(self)\u001b[0m\n\u001b[1;32m    176\u001b[0m \u001b[39mself\u001b[39m\u001b[39m.\u001b[39m__log_traceback \u001b[39m=\u001b[39m \u001b[39mFalse\u001b[39;00m\n\u001b[1;32m    177\u001b[0m \u001b[39mif\u001b[39;00m \u001b[39mself\u001b[39m\u001b[39m.\u001b[39m_exception \u001b[39mis\u001b[39;00m \u001b[39mnot\u001b[39;00m \u001b[39mNone\u001b[39;00m:\n\u001b[0;32m--> 178\u001b[0m     \u001b[39mraise\u001b[39;00m \u001b[39mself\u001b[39m\u001b[39m.\u001b[39m_exception\n\u001b[1;32m    179\u001b[0m \u001b[39mreturn\u001b[39;00m \u001b[39mself\u001b[39m\u001b[39m.\u001b[39m_result\n",
      "File \u001b[0;32m/usr/lib/python3.8/asyncio/tasks.py:280\u001b[0m, in \u001b[0;36mTask.__step\u001b[0;34m(***failed resolving arguments***)\u001b[0m\n\u001b[1;32m    276\u001b[0m \u001b[39mtry\u001b[39;00m:\n\u001b[1;32m    277\u001b[0m     \u001b[39mif\u001b[39;00m exc \u001b[39mis\u001b[39;00m \u001b[39mNone\u001b[39;00m:\n\u001b[1;32m    278\u001b[0m         \u001b[39m# We use the `send` method directly, because coroutines\u001b[39;00m\n\u001b[1;32m    279\u001b[0m         \u001b[39m# don't have `__iter__` and `__next__` methods.\u001b[39;00m\n\u001b[0;32m--> 280\u001b[0m         result \u001b[39m=\u001b[39m coro\u001b[39m.\u001b[39;49msend(\u001b[39mNone\u001b[39;49;00m)\n\u001b[1;32m    281\u001b[0m     \u001b[39melse\u001b[39;00m:\n\u001b[1;32m    282\u001b[0m         result \u001b[39m=\u001b[39m coro\u001b[39m.\u001b[39mthrow(exc)\n",
      "File \u001b[0;32m~/.local/lib/python3.8/site-packages/stan/model.py:495\u001b[0m, in \u001b[0;36mbuild.<locals>.go\u001b[0;34m()\u001b[0m\n\u001b[1;32m    493\u001b[0m     building_output\u001b[39m.\u001b[39mwrite_line(\u001b[39mf\u001b[39m\u001b[39m\"\u001b[39m\u001b[39m<info>Building:</info> <error>\u001b[39m\u001b[39m{\u001b[39;00merror_type\u001b[39m}\u001b[39;00m\u001b[39m:</error>\u001b[39m\u001b[39m\"\u001b[39m)\n\u001b[1;32m    494\u001b[0m     building_output\u001b[39m.\u001b[39mwrite_line(\u001b[39mf\u001b[39m\u001b[39m\"\u001b[39m\u001b[39m<error>\u001b[39m\u001b[39m{\u001b[39;00mexception_body_without_first_line\u001b[39m}\u001b[39;00m\u001b[39m</error>\u001b[39m\u001b[39m\"\u001b[39m)\n\u001b[0;32m--> 495\u001b[0m     \u001b[39mraise\u001b[39;00m \u001b[39mValueError\u001b[39;00m(error_type)\n\u001b[1;32m    496\u001b[0m \u001b[39melse\u001b[39;00m:\n\u001b[1;32m    497\u001b[0m     \u001b[39mraise\u001b[39;00m \u001b[39mRuntimeError\u001b[39;00m(exception_body)\n",
      "\u001b[0;31mValueError\u001b[0m: Semantic error"
     ]
    }
   ],
   "source": [
    "with open(\"fixed_bias_example.stan\") as f:\n",
    "    fixed_bias_code = f.read()\n",
    "\n",
    "fixed_bias_data = {\n",
    "    \"C\": list(bias_df['Confirmed']),\n",
    "    \"R\": 0.99,\n",
    "    \"serial_interval\": RenewalModel(R0=None).serial_interval\n",
    "}\n",
    "with suppress_stdout_stderr():\n",
    "    posterior = stan.build(fixed_bias_code, data=fixed_bias_data, random_seed=1) "
   ]
  },
  {
   "cell_type": "code",
   "execution_count": null,
   "metadata": {},
   "outputs": [],
   "source": [
    "# posterior = stan.build(fixed_bias_code, data=fixed_bias_data, random_seed=1)"
   ]
  },
  {
   "cell_type": "code",
   "execution_count": 71,
   "metadata": {},
   "outputs": [
    {
     "name": "stderr",
     "output_type": "stream",
     "text": [
      "Sampling:   0%\n",
      "Sampling: 100%, done.\n",
      "Messages received during sampling:\n",
      "  Gradient evaluation took 1.9e-05 seconds\n",
      "  1000 transitions using 10 leapfrog steps per transition would take 0.19 seconds.\n",
      "  Adjust your expectations accordingly!\n",
      "  Informational Message: The current Metropolis proposal is about to be rejected because of the following issue:\n",
      "  Exception: gamma_lpdf: Random variable[3] is 0, but must be positive finite! (in '/tmp/httpstan_tysux7sf/model_krga5psy.stan', line 35, column 4 to column 23)\n",
      "  If this warning occurs sporadically, such as for highly constrained variable types like covariance matrices, then the sampler is fine,\n",
      "  but if this warning occurs often then your model may be either severely ill-conditioned or misspecified.\n",
      "  Informational Message: The current Metropolis proposal is about to be rejected because of the following issue:\n",
      "  Exception: gamma_lpdf: Random variable[3] is 0, but must be positive finite! (in '/tmp/httpstan_tysux7sf/model_krga5psy.stan', line 35, column 4 to column 23)\n",
      "  If this warning occurs sporadically, such as for highly constrained variable types like covariance matrices, then the sampler is fine,\n",
      "  but if this warning occurs often then your model may be either severely ill-conditioned or misspecified.\n",
      "  Informational Message: The current Metropolis proposal is about to be rejected because of the following issue:\n",
      "  Exception: gamma_lpdf: Random variable[3] is 0, but must be positive finite! (in '/tmp/httpstan_tysux7sf/model_krga5psy.stan', line 35, column 4 to column 23)\n",
      "  If this warning occurs sporadically, such as for highly constrained variable types like covariance matrices, then the sampler is fine,\n",
      "  but if this warning occurs often then your model may be either severely ill-conditioned or misspecified.\n",
      "  Informational Message: The current Metropolis proposal is about to be rejected because of the following issue:\n",
      "  Exception: gamma_lpdf: Random variable[1] is inf, but must be positive finite! (in '/tmp/httpstan_tysux7sf/model_krga5psy.stan', line 35, column 4 to column 23)\n",
      "  If this warning occurs sporadically, such as for highly constrained variable types like covariance matrices, then the sampler is fine,\n",
      "  but if this warning occurs often then your model may be either severely ill-conditioned or misspecified.\n",
      "  Informational Message: The current Metropolis proposal is about to be rejected because of the following issue:\n",
      "  Exception: gamma_lpdf: Random variable[1] is inf, but must be positive finite! (in '/tmp/httpstan_tysux7sf/model_krga5psy.stan', line 35, column 4 to column 23)\n",
      "  If this warning occurs sporadically, such as for highly constrained variable types like covariance matrices, then the sampler is fine,\n",
      "  but if this warning occurs often then your model may be either severely ill-conditioned or misspecified.\n",
      "  Gradient evaluation took 2e-05 seconds\n",
      "  1000 transitions using 10 leapfrog steps per transition would take 0.2 seconds.\n",
      "  Adjust your expectations accordingly!\n",
      "  Informational Message: The current Metropolis proposal is about to be rejected because of the following issue:\n",
      "  Exception: gamma_lpdf: Random variable[1] is inf, but must be positive finite! (in '/tmp/httpstan_tysux7sf/model_krga5psy.stan', line 35, column 4 to column 23)\n",
      "  If this warning occurs sporadically, such as for highly constrained variable types like covariance matrices, then the sampler is fine,\n",
      "  but if this warning occurs often then your model may be either severely ill-conditioned or misspecified.\n",
      "  Informational Message: The current Metropolis proposal is about to be rejected because of the following issue:\n",
      "  Exception: gamma_lpdf: Random variable[1] is inf, but must be positive finite! (in '/tmp/httpstan_tysux7sf/model_krga5psy.stan', line 35, column 4 to column 23)\n",
      "  If this warning occurs sporadically, such as for highly constrained variable types like covariance matrices, then the sampler is fine,\n",
      "  but if this warning occurs often then your model may be either severely ill-conditioned or misspecified.\n",
      "  Informational Message: The current Metropolis proposal is about to be rejected because of the following issue:\n",
      "  Exception: gamma_lpdf: Random variable[1] is 0, but must be positive finite! (in '/tmp/httpstan_tysux7sf/model_krga5psy.stan', line 35, column 4 to column 23)\n",
      "  If this warning occurs sporadically, such as for highly constrained variable types like covariance matrices, then the sampler is fine,\n",
      "  but if this warning occurs often then your model may be either severely ill-conditioned or misspecified.\n",
      "  Informational Message: The current Metropolis proposal is about to be rejected because of the following issue:\n",
      "  Exception: gamma_lpdf: Random variable[1] is 0, but must be positive finite! (in '/tmp/httpstan_tysux7sf/model_krga5psy.stan', line 35, column 4 to column 23)\n",
      "  If this warning occurs sporadically, such as for highly constrained variable types like covariance matrices, then the sampler is fine,\n",
      "  but if this warning occurs often then your model may be either severely ill-conditioned or misspecified.\n",
      "  Gradient evaluation took 1.5e-05 seconds\n",
      "  1000 transitions using 10 leapfrog steps per transition would take 0.15 seconds.\n",
      "  Adjust your expectations accordingly!\n",
      "  Informational Message: The current Metropolis proposal is about to be rejected because of the following issue:\n",
      "  Exception: gamma_lpdf: Random variable[3] is 0, but must be positive finite! (in '/tmp/httpstan_tysux7sf/model_krga5psy.stan', line 35, column 4 to column 23)\n",
      "  If this warning occurs sporadically, such as for highly constrained variable types like covariance matrices, then the sampler is fine,\n",
      "  but if this warning occurs often then your model may be either severely ill-conditioned or misspecified.\n",
      "  Informational Message: The current Metropolis proposal is about to be rejected because of the following issue:\n",
      "  Exception: gamma_lpdf: Random variable[3] is 0, but must be positive finite! (in '/tmp/httpstan_tysux7sf/model_krga5psy.stan', line 35, column 4 to column 23)\n",
      "  If this warning occurs sporadically, such as for highly constrained variable types like covariance matrices, then the sampler is fine,\n",
      "  but if this warning occurs often then your model may be either severely ill-conditioned or misspecified.\n",
      "  Informational Message: The current Metropolis proposal is about to be rejected because of the following issue:\n",
      "  Exception: gamma_lpdf: Random variable[3] is 0, but must be positive finite! (in '/tmp/httpstan_tysux7sf/model_krga5psy.stan', line 35, column 4 to column 23)\n",
      "  If this warning occurs sporadically, such as for highly constrained variable types like covariance matrices, then the sampler is fine,\n",
      "  but if this warning occurs often then your model may be either severely ill-conditioned or misspecified.\n",
      "  Informational Message: The current Metropolis proposal is about to be rejected because of the following issue:\n",
      "  Exception: gamma_lpdf: Random variable[1] is inf, but must be positive finite! (in '/tmp/httpstan_tysux7sf/model_krga5psy.stan', line 35, column 4 to column 23)\n",
      "  If this warning occurs sporadically, such as for highly constrained variable types like covariance matrices, then the sampler is fine,\n",
      "  but if this warning occurs often then your model may be either severely ill-conditioned or misspecified.\n",
      "  Informational Message: The current Metropolis proposal is about to be rejected because of the following issue:\n",
      "  Exception: gamma_lpdf: Random variable[1] is inf, but must be positive finite! (in '/tmp/httpstan_tysux7sf/model_krga5psy.stan', line 35, column 4 to column 23)\n",
      "  If this warning occurs sporadically, such as for highly constrained variable types like covariance matrices, then the sampler is fine,\n",
      "  but if this warning occurs often then your model may be either severely ill-conditioned or misspecified.\n",
      "  Gradient evaluation took 5.2e-05 seconds\n",
      "  1000 transitions using 10 leapfrog steps per transition would take 0.52 seconds.\n",
      "  Adjust your expectations accordingly!\n",
      "  Informational Message: The current Metropolis proposal is about to be rejected because of the following issue:\n",
      "  Exception: gamma_lpdf: Random variable[1] is 0, but must be positive finite! (in '/tmp/httpstan_tysux7sf/model_krga5psy.stan', line 35, column 4 to column 23)\n",
      "  If this warning occurs sporadically, such as for highly constrained variable types like covariance matrices, then the sampler is fine,\n",
      "  but if this warning occurs often then your model may be either severely ill-conditioned or misspecified.\n",
      "  Informational Message: The current Metropolis proposal is about to be rejected because of the following issue:\n",
      "  Exception: gamma_lpdf: Random variable[1] is 0, but must be positive finite! (in '/tmp/httpstan_tysux7sf/model_krga5psy.stan', line 35, column 4 to column 23)\n",
      "  If this warning occurs sporadically, such as for highly constrained variable types like covariance matrices, then the sampler is fine,\n",
      "  but if this warning occurs often then your model may be either severely ill-conditioned or misspecified.\n",
      "  Informational Message: The current Metropolis proposal is about to be rejected because of the following issue:\n",
      "  Exception: gamma_lpdf: Random variable[3] is 0, but must be positive finite! (in '/tmp/httpstan_tysux7sf/model_krga5psy.stan', line 35, column 4 to column 23)\n",
      "  If this warning occurs sporadically, such as for highly constrained variable types like covariance matrices, then the sampler is fine,\n",
      "  but if this warning occurs often then your model may be either severely ill-conditioned or misspecified.\n",
      "  Informational Message: The current Metropolis proposal is about to be rejected because of the following issue:\n",
      "  Exception: gamma_lpdf: Random variable[1] is 0, but must be positive finite! (in '/tmp/httpstan_tysux7sf/model_krga5psy.stan', line 35, column 4 to column 23)\n",
      "  If this warning occurs sporadically, such as for highly constrained variable types like covariance matrices, then the sampler is fine,\n",
      "  but if this warning occurs often then your model may be either severely ill-conditioned or misspecified.\n",
      "  Informational Message: The current Metropolis proposal is about to be rejected because of the following issue:\n",
      "  Exception: gamma_lpdf: Random variable[1] is 0, but must be positive finite! (in '/tmp/httpstan_tysux7sf/model_krga5psy.stan', line 35, column 4 to column 23)\n",
      "  If this warning occurs sporadically, such as for highly constrained variable types like covariance matrices, then the sampler is fine,\n",
      "  but if this warning occurs often then your model may be either severely ill-conditioned or misspecified.\n"
     ]
    }
   ],
   "source": [
    "fit = posterior.sample(num_chains=4, num_samples=10)"
   ]
  },
  {
   "cell_type": "code",
   "execution_count": 68,
   "metadata": {},
   "outputs": [
    {
     "name": "stdout",
     "output_type": "stream",
     "text": [
      "               count          mean       std           min           25%  \\\n",
      "parameters                                                                 \n",
      "lp__            40.0  33939.451018  1.733760  33935.778835  33938.176561   \n",
      "accept_stat__   40.0      0.896243  0.101913      0.582228      0.849922   \n",
      "stepsize__      40.0      0.717232  0.028163      0.682877      0.696872   \n",
      "treedepth__     40.0      2.625000  0.490290      2.000000      2.000000   \n",
      "n_leapfrog__    40.0      5.900000  1.808810      3.000000      3.000000   \n",
      "divergent__     40.0      0.000000  0.000000      0.000000      0.000000   \n",
      "energy__        40.0 -33936.060472  2.158742 -33940.506387 -33937.622945   \n",
      "alpha.1         40.0      1.013661  0.021222      0.969655      1.001733   \n",
      "alpha.2         40.0      1.010343  0.025472      0.967226      0.989686   \n",
      "alpha.3         40.0      1.010181  0.027032      0.954862      0.991840   \n",
      "alpha.4         40.0      1.013309  0.028085      0.944388      0.999098   \n",
      "alpha.5         40.0      1.005930  0.024609      0.955375      0.995668   \n",
      "alpha.6         40.0      1.012290  0.028103      0.941445      0.992155   \n",
      "alpha.7         40.0      1.021218  0.043303      0.922951      0.994068   \n",
      "\n",
      "                        50%           75%           max  \n",
      "parameters                                               \n",
      "lp__           33939.560830  33940.970383  33942.219723  \n",
      "accept_stat__      0.917079      0.990946      1.000000  \n",
      "stepsize__         0.714701      0.735061      0.756649  \n",
      "treedepth__        3.000000      3.000000      3.000000  \n",
      "n_leapfrog__       7.000000      7.000000      7.000000  \n",
      "divergent__        0.000000      0.000000      0.000000  \n",
      "energy__      -33936.298191 -33934.477058 -33930.451004  \n",
      "alpha.1            1.016279      1.027347      1.052273  \n",
      "alpha.2            1.009848      1.032326      1.078259  \n",
      "alpha.3            1.016124      1.026473      1.055412  \n",
      "alpha.4            1.018446      1.034822      1.066489  \n",
      "alpha.5            1.004513      1.017755      1.055888  \n",
      "alpha.6            1.017164      1.030922      1.074909  \n",
      "alpha.7            1.020023      1.048443      1.126170  \n"
     ]
    }
   ],
   "source": [
    "df = fit.to_frame()\n",
    "print(df.describe().T)"
   ]
  }
 ],
 "metadata": {
  "kernelspec": {
   "display_name": "Python 3.8.10 64-bit",
   "language": "python",
   "name": "python3"
  },
  "language_info": {
   "codemirror_mode": {
    "name": "ipython",
    "version": 3
   },
   "file_extension": ".py",
   "mimetype": "text/x-python",
   "name": "python",
   "nbconvert_exporter": "python",
   "pygments_lexer": "ipython3",
   "version": "3.8.10"
  },
  "orig_nbformat": 4,
  "vscode": {
   "interpreter": {
    "hash": "916dbcbb3f70747c44a77c7bcd40155683ae19c65e1c03b4aa3499c5328201f1"
   }
  }
 },
 "nbformat": 4,
 "nbformat_minor": 2
}
